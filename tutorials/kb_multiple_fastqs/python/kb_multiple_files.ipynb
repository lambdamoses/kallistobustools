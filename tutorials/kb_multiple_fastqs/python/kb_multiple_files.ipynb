{
  "nbformat": 4,
  "nbformat_minor": 0,
  "metadata": {
    "colab": {
      "name": "kb_multiple_files.ipynb",
      "provenance": [],
      "collapsed_sections": [],
      "toc_visible": true,
      "include_colab_link": true
    },
    "kernelspec": {
      "name": "python3",
      "display_name": "Python 3"
    }
  },
  "cells": [
    {
      "cell_type": "markdown",
      "metadata": {
        "id": "view-in-github",
        "colab_type": "text"
      },
      "source": [
        "<a href=\"https://colab.research.google.com/github/pachterlab/kallistobustools/blob/master/tutorials/docs/tutorials/kb_multiple_fastqs/python/kb_multiple_files.ipynb\" target=\"_parent\"><img src=\"https://colab.research.google.com/assets/colab-badge.svg\" alt=\"Open In Colab\"/></a>"
      ]
    },
    {
      "cell_type": "markdown",
      "metadata": {
        "id": "om1Ls1J9Kqj-"
      },
      "source": [
        "# Processing Multiple Lanes at Once\n",
        "\n",
        "This tutorial provides instructions for how to pre-process the [mouse T cells SRR8206317](https://www.ncbi.nlm.nih.gov/sra/?term=SRR8206317) dataset from [Miller & Sen et al., 2019](https://doi.org/10.1038/s41590-019-0312-6) using the **kallisto | bustools** workflow."
      ]
    },
    {
      "cell_type": "markdown",
      "metadata": {
        "id": "cvkb-dM0La4J"
      },
      "source": [
        "## Download the data"
      ]
    },
    {
      "cell_type": "code",
      "metadata": {
        "id": "q5uEZ2NXLiE7"
      },
      "source": [
        "!wget -q ftp://ftp.sra.ebi.ac.uk/vol1/run/SRR820/SRR8206317/d10_Tet_possorted_genome_bam.bam"
      ],
      "execution_count": 1,
      "outputs": []
    },
    {
      "cell_type": "markdown",
      "metadata": {
        "id": "1lChMcExK5YX"
      },
      "source": [
        "## Install `kb` and `bamtofastq`\n",
        "\n",
        "We will be using `bamtofastq` to generate the original FASTQ files from the BAM files provided by the authors."
      ]
    },
    {
      "cell_type": "code",
      "metadata": {
        "id": "uszsyqs2K5Lr",
        "colab": {
          "base_uri": "https://localhost:8080/"
        },
        "outputId": "ea23af6e-2788-4997-c88c-1ba141c930dc"
      },
      "source": [
        "!pip install --quiet kb-python"
      ],
      "execution_count": 2,
      "outputs": [
        {
          "output_type": "stream",
          "text": [
            "\u001b[K     |████████████████████████████████| 59.1MB 131kB/s \n",
            "\u001b[K     |████████████████████████████████| 51kB 6.3MB/s \n",
            "\u001b[K     |████████████████████████████████| 13.2MB 37.1MB/s \n",
            "\u001b[K     |████████████████████████████████| 10.3MB 19.2MB/s \n",
            "\u001b[K     |████████████████████████████████| 122kB 45.0MB/s \n",
            "\u001b[K     |████████████████████████████████| 112kB 44.8MB/s \n",
            "\u001b[K     |████████████████████████████████| 81kB 8.0MB/s \n",
            "\u001b[K     |████████████████████████████████| 51kB 6.0MB/s \n",
            "\u001b[K     |████████████████████████████████| 71kB 7.7MB/s \n",
            "\u001b[K     |████████████████████████████████| 1.2MB 39.6MB/s \n",
            "\u001b[?25h  Building wheel for loompy (setup.py) ... \u001b[?25l\u001b[?25hdone\n",
            "  Building wheel for numpy-groupies (setup.py) ... \u001b[?25l\u001b[?25hdone\n",
            "  Building wheel for sinfo (setup.py) ... \u001b[?25l\u001b[?25hdone\n",
            "  Building wheel for umap-learn (setup.py) ... \u001b[?25l\u001b[?25hdone\n",
            "  Building wheel for pynndescent (setup.py) ... \u001b[?25l\u001b[?25hdone\n"
          ],
          "name": "stdout"
        }
      ]
    },
    {
      "cell_type": "code",
      "metadata": {
        "id": "27D35F-cKhX8"
      },
      "source": [
        "!wget -q http://cf.10xgenomics.com/misc/bamtofastq-1.2.0\n",
        "!chmod +x bamtofastq-1.2.0"
      ],
      "execution_count": 3,
      "outputs": []
    },
    {
      "cell_type": "code",
      "metadata": {
        "id": "bMt1eAg1LGH9",
        "colab": {
          "base_uri": "https://localhost:8080/"
        },
        "outputId": "2e7c08f3-ed77-4bbc-f501-7c563cb5a738"
      },
      "source": [
        "!./bamtofastq-1.2.0"
      ],
      "execution_count": 4,
      "outputs": [
        {
          "output_type": "stream",
          "text": [
            "bamtofastq v1.2.0\n",
            "Invalid arguments.\n",
            "\n",
            "Usage:\n",
            "  bamtofastq [options] <bam> <output-path>\n",
            "  bamtofastq (-h | --help)\n"
          ],
          "name": "stdout"
        }
      ]
    },
    {
      "cell_type": "markdown",
      "metadata": {
        "id": "ycg_r-UILuHI"
      },
      "source": [
        "## Download a pre-built mouse index"
      ]
    },
    {
      "cell_type": "code",
      "metadata": {
        "id": "mO9yYQTtLIJW",
        "colab": {
          "base_uri": "https://localhost:8080/"
        },
        "outputId": "fa74bbd7-6228-4d82-b7b1-f302cb366df4"
      },
      "source": [
        "%%time\n",
        "!kb ref -d mouse -i index.idx -g t2g.txt"
      ],
      "execution_count": 5,
      "outputs": [
        {
          "output_type": "stream",
          "text": [
            "[2021-03-31 23:49:33,545]    INFO Downloading files for mouse from https://caltech.box.com/shared/static/vcaz6cujop0xuapdmz0pplp3aoqc41si.gz to tmp/vcaz6cujop0xuapdmz0pplp3aoqc41si.gz\n",
            "100% 1.89G/1.89G [01:26<00:00, 23.4MB/s]\n",
            "[2021-03-31 23:51:01,788]    INFO Extracting files from tmp/vcaz6cujop0xuapdmz0pplp3aoqc41si.gz\n",
            "CPU times: user 1.29 s, sys: 298 ms, total: 1.58 s\n",
            "Wall time: 2min 1s\n"
          ],
          "name": "stdout"
        }
      ]
    },
    {
      "cell_type": "markdown",
      "metadata": {
        "id": "US5z4ALHN42z"
      },
      "source": [
        "## Generate the FASTQs from the BAM file\n",
        "\n",
        "Use the `bamtofastq` utility to generate the FASTQs."
      ]
    },
    {
      "cell_type": "code",
      "metadata": {
        "id": "922T0LTqN4pk",
        "colab": {
          "base_uri": "https://localhost:8080/"
        },
        "outputId": "837eb9e7-29f9-4b32-da78-d221bdea0fc8"
      },
      "source": [
        "%%time\n",
        "!./bamtofastq-1.2.0 --reads-per-fastq=500000000 d10_Tet_possorted_genome_bam.bam ./fastqs"
      ],
      "execution_count": 6,
      "outputs": [
        {
          "output_type": "stream",
          "text": [
            "bamtofastq v1.2.0\n",
            "Args { arg_bam: \"d10_Tet_possorted_genome_bam.bam\", arg_output_path: \"./fastqs\", flag_nthreads: 4, flag_locus: None, flag_bx_list: None, flag_reads_per_fastq: 500000000, flag_gemcode: false, flag_lr20: false, flag_cr11: false }\n",
            "Writing finished.  Observed 85992089 read pairs. Wrote 85992089 read pairs\n",
            "CPU times: user 4.46 s, sys: 491 ms, total: 4.95 s\n",
            "Wall time: 12min 12s\n"
          ],
          "name": "stdout"
        }
      ]
    },
    {
      "cell_type": "markdown",
      "metadata": {
        "id": "TBfwNr8ON_3x"
      },
      "source": [
        "## Generate an RNA count matrix in H5AD Format\n",
        "\n",
        "The following command will generate an RNA count matrix of cells (rows) by genes (columns) in H5AD format, which is a binary format used to store [Anndata](https://anndata.readthedocs.io/en/stable/) objects. Notice we are providing the index and transcript-to-gene mapping we downloaded in the previous step to the `-i` and `-g` arguments respectively. Also, these reads were generated with the 10x Genomics Chromium Single Cell v2 Chemistry, hence the `-x 10xv2` argument. To view other supported technologies, run `kb --list`.\n",
        "\n",
        "__Note:__ If you would like a Loom file instead, replace the `--h5ad` flag with `--loom`. If you want to use the raw matrix output by `kb` instead of their H5AD or Loom converted files, omit these flags."
      ]
    },
    {
      "cell_type": "code",
      "metadata": {
        "id": "-ACnrtP7OFgf",
        "colab": {
          "base_uri": "https://localhost:8080/"
        },
        "outputId": "95693e0f-b7b9-41b5-8566-d557865ea59e"
      },
      "source": [
        "!kb count -i index.idx -g t2g.txt -x 10xv2 -o output -t 2 \\\n",
        "fastqs/MAR1_POOL_2_10_tet_SI-GA-C8_MissingLibrary_1_HJNKJBGX5/bamtofastq_S1_L001_R1_001.fastq.gz \\\n",
        "fastqs/MAR1_POOL_2_10_tet_SI-GA-C8_MissingLibrary_1_HJNKJBGX5/bamtofastq_S1_L001_R2_001.fastq.gz \\\n",
        "fastqs/MAR1_POOL_2_10_tet_SI-GA-C8_MissingLibrary_1_HJNKJBGX5/bamtofastq_S1_L002_R1_001.fastq.gz \\\n",
        "fastqs/MAR1_POOL_2_10_tet_SI-GA-C8_MissingLibrary_1_HJNKJBGX5/bamtofastq_S1_L002_R2_001.fastq.gz \\\n",
        "fastqs/MAR1_POOL_2_10_tet_SI-GA-C8_MissingLibrary_1_HJNKJBGX5/bamtofastq_S1_L003_R1_001.fastq.gz \\\n",
        "fastqs/MAR1_POOL_2_10_tet_SI-GA-C8_MissingLibrary_1_HJNKJBGX5/bamtofastq_S1_L003_R2_001.fastq.gz \\\n",
        "fastqs/MAR1_POOL_2_10_tet_SI-GA-C8_MissingLibrary_1_HJNKJBGX5/bamtofastq_S1_L004_R1_001.fastq.gz \\\n",
        "fastqs/MAR1_POOL_2_10_tet_SI-GA-C8_MissingLibrary_1_HJNKJBGX5/bamtofastq_S1_L004_R2_001.fastq.gz"
      ],
      "execution_count": 7,
      "outputs": [
        {
          "output_type": "stream",
          "text": [
            "[2021-04-01 00:03:48,050]    INFO Using index index.idx to generate BUS file to output from\n",
            "[2021-04-01 00:03:48,051]    INFO         fastqs/MAR1_POOL_2_10_tet_SI-GA-C8_MissingLibrary_1_HJNKJBGX5/bamtofastq_S1_L001_R1_001.fastq.gz\n",
            "[2021-04-01 00:03:48,051]    INFO         fastqs/MAR1_POOL_2_10_tet_SI-GA-C8_MissingLibrary_1_HJNKJBGX5/bamtofastq_S1_L001_R2_001.fastq.gz\n",
            "[2021-04-01 00:03:48,051]    INFO         fastqs/MAR1_POOL_2_10_tet_SI-GA-C8_MissingLibrary_1_HJNKJBGX5/bamtofastq_S1_L002_R1_001.fastq.gz\n",
            "[2021-04-01 00:03:48,051]    INFO         fastqs/MAR1_POOL_2_10_tet_SI-GA-C8_MissingLibrary_1_HJNKJBGX5/bamtofastq_S1_L002_R2_001.fastq.gz\n",
            "[2021-04-01 00:03:48,051]    INFO         fastqs/MAR1_POOL_2_10_tet_SI-GA-C8_MissingLibrary_1_HJNKJBGX5/bamtofastq_S1_L003_R1_001.fastq.gz\n",
            "[2021-04-01 00:03:48,051]    INFO         fastqs/MAR1_POOL_2_10_tet_SI-GA-C8_MissingLibrary_1_HJNKJBGX5/bamtofastq_S1_L003_R2_001.fastq.gz\n",
            "[2021-04-01 00:03:48,051]    INFO         fastqs/MAR1_POOL_2_10_tet_SI-GA-C8_MissingLibrary_1_HJNKJBGX5/bamtofastq_S1_L004_R1_001.fastq.gz\n",
            "[2021-04-01 00:03:48,051]    INFO         fastqs/MAR1_POOL_2_10_tet_SI-GA-C8_MissingLibrary_1_HJNKJBGX5/bamtofastq_S1_L004_R2_001.fastq.gz\n",
            "[2021-04-01 00:10:48,408]    INFO Sorting BUS file output/output.bus to output/tmp/output.s.bus\n",
            "[2021-04-01 00:12:03,976]    INFO Whitelist not provided\n",
            "[2021-04-01 00:12:03,976]    INFO Copying pre-packaged 10XV2 whitelist to output\n",
            "[2021-04-01 00:12:04,105]    INFO Inspecting BUS file output/tmp/output.s.bus\n",
            "[2021-04-01 00:12:22,834]    INFO Correcting BUS records in output/tmp/output.s.bus to output/tmp/output.s.c.bus with whitelist output/10xv2_whitelist.txt\n",
            "[2021-04-01 00:12:39,443]    INFO Sorting BUS file output/tmp/output.s.c.bus to output/output.unfiltered.bus\n",
            "[2021-04-01 00:13:57,946]    INFO Generating count matrix output/counts_unfiltered/cells_x_genes from BUS file output/output.unfiltered.bus\n"
          ],
          "name": "stdout"
        }
      ]
    },
    {
      "cell_type": "markdown",
      "metadata": {
        "id": "--QxuQPzOhQg"
      },
      "source": [
        "## Load the count matrices into a notebook\n",
        "\n",
        "See the getting started tutorial for how to load the count matrices into [ScanPy](https://scanpy.readthedocs.io/en/latest/index.html) for analysis."
      ]
    },
    {
      "cell_type": "code",
      "metadata": {
        "id": "mb3Y2NzqOqUa"
      },
      "source": [
        ""
      ],
      "execution_count": 7,
      "outputs": []
    }
  ]
}