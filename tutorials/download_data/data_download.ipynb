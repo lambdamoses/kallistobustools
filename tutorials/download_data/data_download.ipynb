{
  "nbformat": 4,
  "nbformat_minor": 0,
  "metadata": {
    "colab": {
      "name": "data_download.ipynb",
      "provenance": [],
      "collapsed_sections": [],
      "include_colab_link": true
    },
    "kernelspec": {
      "name": "python3",
      "display_name": "Python 3"
    }
  },
  "cells": [
    {
      "cell_type": "markdown",
      "metadata": {
        "id": "view-in-github",
        "colab_type": "text"
      },
      "source": [
        "<a href=\"https://colab.research.google.com/github/pachterlab/kallistobustools/blob/master/tutorials/docs/tutorials/download_data/data_download.ipynb\" target=\"_parent\"><img src=\"https://colab.research.google.com/assets/colab-badge.svg\" alt=\"Open In Colab\"/></a>"
      ]
    },
    {
      "cell_type": "markdown",
      "metadata": {
        "id": "H9HtwybL6w6E"
      },
      "source": [
        "# Data downloading\n",
        "\n",
        "This tutorial provides information on where to find single-cell RNA-seq data, and how to download it for processing with the **kallisto | bustools** workflow."
      ]
    },
    {
      "cell_type": "markdown",
      "metadata": {
        "id": "iBBuVqLS66Ef"
      },
      "source": [
        "## Databases\n",
        "\n",
        "There are multiple databases that are important repositories for sequencing data and metadata, and that are relevant for obtaining single-cell RNA-seq data. For each archive we provide an example of how the data is organized and how to download it.\n",
        "\n",
        "* **[Biological Project Library](https://bigd.big.ac.cn/bioproject/)** (BioProject): The Biological Project Library organizes metadata for research projects involving genomic data types. This repository, which was started in 2016, is similar to the Gene Expression Omnibus. As an example, the data from the paper [Peng et al. 2019](https://www.nature.com/articles/s41422-019-0195-y) is organized under project accession [PRJCA001063](https://bigd.big.ac.cn/bioproject/browse/PRJCA001063). Each single-cell RNA-seq dataset has a “BioSample accession”, e.g. [SAMC047103](https://bigd.big.ac.cn/biosample/browse/SAMC047103). A further link to the Genome Sequencing Archive provides access to FASTQ files.\n",
        "\n",
        "* **[Genome Sequence Archive](http://gsa.big.ac.cn/)** (GSA): This repository contains reads for projects in FASTQ format. For example, reads for [SAMC047103](https://bigd.big.ac.cn/biosample/browse/SAMC047103) from the [PRJCA001063](https://bigd.big.ac.cn/bioproject/browse/PRJCA001063) in the BioProject repository are accessible under accession [CRA001160](https://bigd.big.ac.cn/gsa/browse/CRA001160). A specific run accession, e.g. [CRR034516](https://bigd.big.ac.cn/gsa/browse/CRA001160/CRR034516) provides direct access to FASTQ files.\n",
        "\n",
        "* **[Gene Expression Omnibus](https://www.ncbi.nlm.nih.gov/geo/)** (GEO): The Gene Expression Omnibus is a repository for [MIAME (Minimum Infomration about a Microarray Experiment)](https://www.ncbi.nlm.nih.gov/geo/info/MIAME.html) compliant data. While the MIAME standards were established during a time when gene expression data was primarily collected with microarrays, the standards also apply to sequencing data and the GEO repository hosts project metadata for both types of research projects. As an example, the project link for the paper [Wolock et al. 2019](https://www.sciencedirect.com/science/article/pii/S2211124719307971) is [GSE132151](https://www.ncbi.nlm.nih.gov/geo/query/acc.cgi?acc=GSE132151). Most papers refer to their data via GEO accessions, so GEO is a useful repository for searching for data from projects.\n",
        "\n",
        "* **[European Nucelotide Archive](https://www.ebi.ac.uk/ena)** (ENA): The ENA provides access to nucleotide sequences associated with genomic projects. In the case of [GSE132151](https://www.ncbi.nlm.nih.gov/geo/query/acc.cgi?acc=GSE132151) mentioned above, the nucleotide sequences are at [PRJNA546231](https://www.ebi.ac.uk/ena/data/view/PRJNA546231). The ENA provides direct access to FASTQ files from the project page. It also links to NCBI Sequence Read Archive format data.\n",
        "\n",
        "* **[Sequence Read Archive](https://www.ncbi.nlm.nih.gov/sra)** (SRA): The SRA is a sequence repository for genomic data. Files are stored in SRA format, which must be downloaded and converted to FASTQ format prior to pre-processing using the `fasterq-dump` program available as part of [SRA tools](https://github.com/ncbi/sra-tools/wiki/HowTo:-fasterq-dump). For example, the data in [Rossi et al., 2019](https://science.sciencemag.org/content/364/6447/1271) can be located in the SRA via [GEO](https://www.ncbi.nlm.nih.gov/geo/query/acc.cgi?acc=GSE130597), then to the [SRA](https://www.ncbi.nlm.nih.gov/sra?term=SRP194426), and finally a sequence data page for one of the runs, [SRX5779290](https://trace.ncbi.nlm.nih.gov/Traces/sra/?run=SRR9000493) has information about the traces (reads). The SRA tools operate directly on SRA accessions."
      ]
    },
    {
      "cell_type": "markdown",
      "metadata": {
        "id": "tYGNjUdO8JFr"
      },
      "source": [
        "## Searching\n",
        "\n",
        "The [sra-explorer](https://ewels.github.io/sra-explorer/) website is an effective and easy to use utility for searching the SRA and for downloading files. The utility finds SRA entires by keywords or accession numbers and produces links to the FASTQs and to commands for downloading them."
      ]
    },
    {
      "cell_type": "markdown",
      "metadata": {
        "id": "u14ERaW38Z6u"
      },
      "source": [
        "## Streaming\n",
        "\n",
        "Single-cell RNA-seq data from sequence repositories can be streamed into `kb` making possible a workflow that does not require saving files to disk prior to pre-processing. For example, the following command can be used to stream data from the a URL:\n",
        "\n",
        "__Note__: Streaming is not supported on Windows."
      ]
    },
    {
      "cell_type": "markdown",
      "metadata": {
        "id": "C-BNdo7Y9RGG"
      },
      "source": [
        "### Install `kb`"
      ]
    },
    {
      "cell_type": "code",
      "metadata": {
        "id": "fIP2HqRI9HEn",
        "colab": {
          "base_uri": "https://localhost:8080/"
        },
        "outputId": "8bc0b830-6fd9-47db-cfcc-ab5709baa9d5"
      },
      "source": [
        "!pip install --quiet kb-python"
      ],
      "execution_count": 1,
      "outputs": [
        {
          "output_type": "stream",
          "text": [
            "\u001b[K     |████████████████████████████████| 59.1MB 76kB/s \n",
            "\u001b[K     |████████████████████████████████| 51kB 4.6MB/s \n",
            "\u001b[K     |████████████████████████████████| 122kB 55.2MB/s \n",
            "\u001b[K     |████████████████████████████████| 10.3MB 47.7MB/s \n",
            "\u001b[K     |████████████████████████████████| 13.2MB 347kB/s \n",
            "\u001b[K     |████████████████████████████████| 112kB 39.0MB/s \n",
            "\u001b[K     |████████████████████████████████| 81kB 7.0MB/s \n",
            "\u001b[K     |████████████████████████████████| 51kB 3.9MB/s \n",
            "\u001b[K     |████████████████████████████████| 71kB 7.1MB/s \n",
            "\u001b[K     |████████████████████████████████| 1.2MB 49.7MB/s \n",
            "\u001b[?25h  Building wheel for loompy (setup.py) ... \u001b[?25l\u001b[?25hdone\n",
            "  Building wheel for numpy-groupies (setup.py) ... \u001b[?25l\u001b[?25hdone\n",
            "  Building wheel for sinfo (setup.py) ... \u001b[?25l\u001b[?25hdone\n",
            "  Building wheel for umap-learn (setup.py) ... \u001b[?25l\u001b[?25hdone\n",
            "  Building wheel for pynndescent (setup.py) ... \u001b[?25l\u001b[?25hdone\n"
          ],
          "name": "stdout"
        }
      ]
    },
    {
      "cell_type": "markdown",
      "metadata": {
        "id": "QdNNQVMN9S7z"
      },
      "source": [
        "### Download a pre-built mouse index\n",
        "\n",
        "The only required file that must be locally stored on disk prior to pre-processing is the index, which is why we download it here."
      ]
    },
    {
      "cell_type": "code",
      "metadata": {
        "id": "Kmi-uBrV9JWb",
        "colab": {
          "base_uri": "https://localhost:8080/"
        },
        "outputId": "ab02633a-a23a-472b-8b20-80f1e35dd74e"
      },
      "source": [
        "%%time\n",
        "!kb ref -d mouse -i index.idx -g t2g.txt"
      ],
      "execution_count": 2,
      "outputs": [
        {
          "output_type": "stream",
          "text": [
            "[2021-03-31 19:33:26,151]    INFO Downloading files for mouse from https://caltech.box.com/shared/static/vcaz6cujop0xuapdmz0pplp3aoqc41si.gz to tmp/vcaz6cujop0xuapdmz0pplp3aoqc41si.gz\n",
            "100% 1.89G/1.89G [01:30<00:00, 22.4MB/s]\n",
            "[2021-03-31 19:34:58,426]    INFO Extracting files from tmp/vcaz6cujop0xuapdmz0pplp3aoqc41si.gz\n",
            "CPU times: user 1.28 s, sys: 218 ms, total: 1.5 s\n",
            "Wall time: 2min 6s\n"
          ],
          "name": "stdout"
        }
      ]
    },
    {
      "cell_type": "code",
      "metadata": {
        "id": "bdIMdXLl9odK",
        "colab": {
          "base_uri": "https://localhost:8080/"
        },
        "outputId": "b94ea2eb-f20b-4010-cd80-2fe61c6012c2"
      },
      "source": [
        "%%time\n",
        "!kb count -i index.idx -g t2g.txt -x 10xv2 --h5ad -t 2 \\\n",
        "https://caltech.box.com/shared/static/w9ww8et5o029s2e3usjzpbq8lpot29rh.gz \\\n",
        "https://caltech.box.com/shared/static/ql00zyvqnpy7bf8ogdoe9zfy907guzy9.gz"
      ],
      "execution_count": 3,
      "outputs": [
        {
          "output_type": "stream",
          "text": [
            "[2021-03-31 19:35:32,311]    INFO Piping https://caltech.box.com/shared/static/w9ww8et5o029s2e3usjzpbq8lpot29rh.gz to ./tmp/w9ww8et5o029s2e3usjzpbq8lpot29rh.gz\n",
            "[2021-03-31 19:35:32,313]    INFO Piping https://caltech.box.com/shared/static/ql00zyvqnpy7bf8ogdoe9zfy907guzy9.gz to ./tmp/ql00zyvqnpy7bf8ogdoe9zfy907guzy9.gz\n",
            "[2021-03-31 19:35:32,314]    INFO Using index index.idx to generate BUS file to . from\n",
            "[2021-03-31 19:35:32,314]    INFO         ./tmp/w9ww8et5o029s2e3usjzpbq8lpot29rh.gz\n",
            "[2021-03-31 19:35:32,314]    INFO         ./tmp/ql00zyvqnpy7bf8ogdoe9zfy907guzy9.gz\n",
            "[2021-03-31 19:38:44,775]    INFO Sorting BUS file ./output.bus to ./tmp/output.s.bus\n",
            "[2021-03-31 19:38:50,622]    INFO Whitelist not provided\n",
            "[2021-03-31 19:38:50,622]    INFO Copying pre-packaged 10XV2 whitelist to .\n",
            "[2021-03-31 19:38:50,752]    INFO Inspecting BUS file ./tmp/output.s.bus\n",
            "[2021-03-31 19:38:53,602]    INFO Correcting BUS records in ./tmp/output.s.bus to ./tmp/output.s.c.bus with whitelist ./10xv2_whitelist.txt\n",
            "[2021-03-31 19:38:55,827]    INFO Sorting BUS file ./tmp/output.s.c.bus to ./output.unfiltered.bus\n",
            "[2021-03-31 19:39:00,448]    INFO Generating count matrix ./counts_unfiltered/cells_x_genes from BUS file ./output.unfiltered.bus\n",
            "[2021-03-31 19:39:06,425]    INFO Reading matrix ./counts_unfiltered/cells_x_genes.mtx\n",
            "[2021-03-31 19:39:09,811]    INFO Writing matrix to h5ad ./counts_unfiltered/adata.h5ad\n",
            "CPU times: user 1.41 s, sys: 188 ms, total: 1.6 s\n",
            "Wall time: 3min 39s\n"
          ],
          "name": "stdout"
        }
      ]
    },
    {
      "cell_type": "code",
      "metadata": {
        "id": "pkO1eabG-IdC"
      },
      "source": [
        ""
      ],
      "execution_count": 3,
      "outputs": []
    }
  ]
}