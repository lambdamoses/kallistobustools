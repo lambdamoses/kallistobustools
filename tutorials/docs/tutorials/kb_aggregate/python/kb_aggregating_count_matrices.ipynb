{
  "nbformat": 4,
  "nbformat_minor": 0,
  "metadata": {
    "colab": {
      "name": "kb_aggregating_count_matrices.ipynb",
      "provenance": [],
      "collapsed_sections": [],
      "toc_visible": true,
      "machine_shape": "hm",
      "include_colab_link": true
    },
    "kernelspec": {
      "name": "python3",
      "display_name": "Python 3"
    }
  },
  "cells": [
    {
      "cell_type": "markdown",
      "metadata": {
        "id": "view-in-github",
        "colab_type": "text"
      },
      "source": [
        "<a href=\"https://colab.research.google.com/github/pachterlab/kallistobustools/blob/master/tutorials/docs/tutorials/kb_aggregate/python/kb_aggregating_count_matrices.ipynb\" target=\"_parent\"><img src=\"https://colab.research.google.com/assets/colab-badge.svg\" alt=\"Open In Colab\"/></a>"
      ]
    },
    {
      "cell_type": "markdown",
      "metadata": {
        "id": "eJRaTt1i1bUV"
      },
      "source": [
        "# Aggregating multiple count matrices tutorial\n",
        "\n",
        "This tutorial describes how to aggregate multiple count matrices by concatenating them into a single [AnnData](https://anndata.readthedocs.io/en/latest/anndata.AnnData.html) object with batch labels for different samples.\n",
        "\n",
        "This is similar to the Cell Ranger aggr function, however no normalization is performed. cellranger aggr is described at https://support.10xgenomics.com/single-cell-gene-expression/software/pipelines/latest/using/aggregate\n",
        "\n",
        "For this tutorial we use dataset E-MTAB-6108."
      ]
    },
    {
      "cell_type": "markdown",
      "metadata": {
        "id": "WsE0fMIr_UWA"
      },
      "source": [
        "The notebook will take some time to run. To ensure that Google Colab does not shut down because of inactivity paste the following code into the console of this tab (*Cntrl [Mac: Cmd]  + Option + i  -> Console tab -> paste code -> press Enter*).\n",
        "\n",
        "```javascript\n",
        "function ConnectButton(){\n",
        "    console.log(\"Connect pushed\"); \n",
        "    document.querySelector(\"#top-toolbar > colab-connect-button\").shadowRoot.querySelector(\"#connect\").click() \n",
        "}\n",
        "setInterval(ConnectButton,60000);\n",
        "```"
      ]
    },
    {
      "cell_type": "markdown",
      "metadata": {
        "id": "Xmowj3mO1fni"
      },
      "source": [
        "## Download the raw data\n",
        "\n",
        "The raw data for E-MTAB-6108 is available at https://www.ebi.ac.uk/arrayexpress/experiments/E-MTAB-6108/"
      ]
    },
    {
      "cell_type": "code",
      "metadata": {
        "id": "v0LMbyEs1U-9",
        "colab": {
          "base_uri": "https://localhost:8080/"
        },
        "outputId": "e04233a5-b0ba-434c-86c8-8eaa10730232"
      },
      "source": [
        "%%time\n",
        "!wget -q https://www.ebi.ac.uk/arrayexpress/files/E-MTAB-6108/iPSC_RGCscRNAseq_Sample1_L005_R1.fastq.gz\n",
        "!wget -q https://www.ebi.ac.uk/arrayexpress/files/E-MTAB-6108/iPSC_RGCscRNAseq_Sample1_L005_R2.fastq.gz\n",
        "!wget -q https://www.ebi.ac.uk/arrayexpress/files/E-MTAB-6108/iPSC_RGCscRNAseq_Sample2_L005_R1.fastq.gz\n",
        "!wget -q https://www.ebi.ac.uk/arrayexpress/files/E-MTAB-6108/iPSC_RGCscRNAseq_Sample2_L005_R2.fastq.gz"
      ],
      "execution_count": 2,
      "outputs": [
        {
          "output_type": "stream",
          "text": [
            "CPU times: user 5.42 s, sys: 839 ms, total: 6.25 s\n",
            "Wall time: 15min 30s\n"
          ],
          "name": "stdout"
        }
      ]
    },
    {
      "cell_type": "markdown",
      "metadata": {
        "id": "d7rr2XIP2pCf"
      },
      "source": [
        "## Install `kb`\n",
        "\n",
        "Install `kb` for running the kallisto|bustools workflow."
      ]
    },
    {
      "cell_type": "code",
      "metadata": {
        "id": "ESlzKNew2TGM",
        "colab": {
          "base_uri": "https://localhost:8080/"
        },
        "outputId": "6c6546e5-3005-4064-f804-b7dad279e718"
      },
      "source": [
        "!pip install --quiet kb-python"
      ],
      "execution_count": 3,
      "outputs": [
        {
          "output_type": "stream",
          "text": [
            "\u001b[K     |████████████████████████████████| 59.1MB 77kB/s \n",
            "\u001b[K     |████████████████████████████████| 10.3MB 34.3MB/s \n",
            "\u001b[K     |████████████████████████████████| 13.2MB 50.1MB/s \n",
            "\u001b[K     |████████████████████████████████| 51kB 5.6MB/s \n",
            "\u001b[K     |████████████████████████████████| 81kB 6.8MB/s \n",
            "\u001b[K     |████████████████████████████████| 112kB 56.7MB/s \n",
            "\u001b[K     |████████████████████████████████| 71kB 6.7MB/s \n",
            "\u001b[K     |████████████████████████████████| 1.2MB 50.2MB/s \n",
            "\u001b[K     |████████████████████████████████| 51kB 5.0MB/s \n",
            "\u001b[?25h  Building wheel for loompy (setup.py) ... \u001b[?25l\u001b[?25hdone\n",
            "  Building wheel for sinfo (setup.py) ... \u001b[?25l\u001b[?25hdone\n",
            "  Building wheel for umap-learn (setup.py) ... \u001b[?25l\u001b[?25hdone\n",
            "  Building wheel for numpy-groupies (setup.py) ... \u001b[?25l\u001b[?25hdone\n",
            "  Building wheel for pynndescent (setup.py) ... \u001b[?25l\u001b[?25hdone\n"
          ],
          "name": "stdout"
        }
      ]
    },
    {
      "cell_type": "markdown",
      "metadata": {
        "id": "BUih8fH13Idv"
      },
      "source": [
        "## Download a pre-built human index\n",
        "\n",
        "__Note:__ See [this notebook]() for a tutorial on how to build custom transcriptome or RNA velocity indices."
      ]
    },
    {
      "cell_type": "code",
      "metadata": {
        "id": "SwEzGTrm3GR2",
        "colab": {
          "base_uri": "https://localhost:8080/"
        },
        "outputId": "d9c32a3f-68c3-42bd-94c3-e3de17e60d37"
      },
      "source": [
        "%%time\n",
        "!kb ref -d human -i index.idx -g t2g.txt"
      ],
      "execution_count": 4,
      "outputs": [
        {
          "output_type": "stream",
          "text": [
            "[2021-03-31 20:50:10,750]    INFO Downloading files for human from https://caltech.box.com/shared/static/v1nm7lpnqz5syh8dyzdk2zs8bglncfib.gz to tmp/v1nm7lpnqz5syh8dyzdk2zs8bglncfib.gz\n",
            "100% 2.23G/2.23G [01:35<00:00, 25.0MB/s]\n",
            "[2021-03-31 20:51:47,840]    INFO Extracting files from tmp/v1nm7lpnqz5syh8dyzdk2zs8bglncfib.gz\n",
            "CPU times: user 1.51 s, sys: 288 ms, total: 1.8 s\n",
            "Wall time: 2min 15s\n"
          ],
          "name": "stdout"
        }
      ]
    },
    {
      "cell_type": "markdown",
      "metadata": {
        "id": "OylbmePH3ncf"
      },
      "source": [
        "## Generate an RNA count matrices in H5AD format\n",
        "\n",
        "The following command will generate an RNA count matrix of cells (rows) by genes (columns) in H5AD format, which is a binary format used to store [Anndata](https://anndata.readthedocs.io/en/stable/) objects. Notice we are providing the index and transcript-to-gene mapping we downloaded in the previous step to the `-i` and `-g` arguments respectively. Also, these reads were generated with the 10x Genomics Chromium Single Cell v2 Chemistry, hence the `-x 10xv2` argument. To view other supported technologies, run `kb --list`.\n",
        "\n",
        "The `--filter` flag is used to filter out barcodes with low UMI counts. This will generate two matrices, one in the `counts_unfiltered` directory and another in the `counts_filtered` directory.\n",
        "\n",
        "__Note:__ If you would like a Loom file instead, replace the `--h5ad` flag with `--loom`. If you want to use the raw matrix output by `kb` instead of their H5AD or Loom converted files, omit these flags."
      ]
    },
    {
      "cell_type": "markdown",
      "metadata": {
        "id": "j3Pqemrm36u_"
      },
      "source": [
        "### Sample 1"
      ]
    },
    {
      "cell_type": "code",
      "metadata": {
        "id": "04aLTAek3kG8",
        "colab": {
          "base_uri": "https://localhost:8080/"
        },
        "outputId": "fa5ff5ed-b44e-4b2f-defc-d64143d6616d"
      },
      "source": [
        "%%time\n",
        "!kb count -i index.idx -g t2g.txt -x 10xv2 -o sample1 --h5ad -t 2 --filter bustools \\\n",
        "iPSC_RGCscRNAseq_Sample1_L005_R1.fastq.gz \\\n",
        "iPSC_RGCscRNAseq_Sample1_L005_R2.fastq.gz"
      ],
      "execution_count": 5,
      "outputs": [
        {
          "output_type": "stream",
          "text": [
            "[2021-03-31 20:52:24,861]    INFO Using index index.idx to generate BUS file to sample1 from\n",
            "[2021-03-31 20:52:24,861]    INFO         iPSC_RGCscRNAseq_Sample1_L005_R1.fastq.gz\n",
            "[2021-03-31 20:52:24,861]    INFO         iPSC_RGCscRNAseq_Sample1_L005_R2.fastq.gz\n",
            "[2021-03-31 21:15:29,824]    INFO Sorting BUS file sample1/output.bus to sample1/tmp/output.s.bus\n",
            "[2021-03-31 21:16:21,667]    INFO Whitelist not provided\n",
            "[2021-03-31 21:16:21,668]    INFO Copying pre-packaged 10XV2 whitelist to sample1\n",
            "[2021-03-31 21:16:22,484]    INFO Inspecting BUS file sample1/tmp/output.s.bus\n",
            "[2021-03-31 21:16:36,519]    INFO Correcting BUS records in sample1/tmp/output.s.bus to sample1/tmp/output.s.c.bus with whitelist sample1/10xv2_whitelist.txt\n",
            "[2021-03-31 21:16:46,573]    INFO Sorting BUS file sample1/tmp/output.s.c.bus to sample1/output.unfiltered.bus\n",
            "[2021-03-31 21:17:25,239]    INFO Generating count matrix sample1/counts_unfiltered/cells_x_genes from BUS file sample1/output.unfiltered.bus\n",
            "[2021-03-31 21:17:48,992]    INFO Reading matrix sample1/counts_unfiltered/cells_x_genes.mtx\n",
            "[2021-03-31 21:18:00,111]    INFO Writing matrix to h5ad sample1/counts_unfiltered/adata.h5ad\n",
            "[2021-03-31 21:18:00,914]    INFO Filtering with bustools\n",
            "[2021-03-31 21:18:00,915]    INFO Generating whitelist sample1/filter_barcodes.txt from BUS file sample1/output.unfiltered.bus\n",
            "[2021-03-31 21:18:01,259]    INFO Correcting BUS records in sample1/output.unfiltered.bus to sample1/tmp/output.unfiltered.c.bus with whitelist sample1/filter_barcodes.txt\n",
            "[2021-03-31 21:18:09,292]    INFO Sorting BUS file sample1/tmp/output.unfiltered.c.bus to sample1/output.filtered.bus\n",
            "[2021-03-31 21:18:46,457]    INFO Generating count matrix sample1/counts_filtered/cells_x_genes from BUS file sample1/output.filtered.bus\n",
            "[2021-03-31 21:19:09,724]    INFO Reading matrix sample1/counts_filtered/cells_x_genes.mtx\n",
            "[2021-03-31 21:19:18,183]    INFO Writing matrix to h5ad sample1/counts_filtered/adata.h5ad\n",
            "CPU times: user 9.95 s, sys: 1.39 s, total: 11.3 s\n",
            "Wall time: 26min 56s\n"
          ],
          "name": "stdout"
        }
      ]
    },
    {
      "cell_type": "markdown",
      "metadata": {
        "id": "6IzkOJI84Rpx"
      },
      "source": [
        "### Sample 2"
      ]
    },
    {
      "cell_type": "code",
      "metadata": {
        "id": "9kR5WOrx4I2D",
        "colab": {
          "base_uri": "https://localhost:8080/"
        },
        "outputId": "55bb2ce2-be4f-4e91-b82f-63c87dddbf64"
      },
      "source": [
        "%%time\n",
        "!kb count -i index.idx -g t2g.txt -x 10xv2 -o sample2 --h5ad -t 2 --filter bustools \\\n",
        "iPSC_RGCscRNAseq_Sample2_L005_R1.fastq.gz \\\n",
        "iPSC_RGCscRNAseq_Sample2_L005_R2.fastq.gz"
      ],
      "execution_count": 6,
      "outputs": [
        {
          "output_type": "stream",
          "text": [
            "[2021-03-31 21:19:22,185]    INFO Using index index.idx to generate BUS file to sample2 from\n",
            "[2021-03-31 21:19:22,185]    INFO         iPSC_RGCscRNAseq_Sample2_L005_R1.fastq.gz\n",
            "[2021-03-31 21:19:22,185]    INFO         iPSC_RGCscRNAseq_Sample2_L005_R2.fastq.gz\n",
            "[2021-03-31 21:37:11,095]    INFO Sorting BUS file sample2/output.bus to sample2/tmp/output.s.bus\n",
            "[2021-03-31 21:37:35,255]    INFO Whitelist not provided\n",
            "[2021-03-31 21:37:35,255]    INFO Copying pre-packaged 10XV2 whitelist to sample2\n",
            "[2021-03-31 21:37:35,379]    INFO Inspecting BUS file sample2/tmp/output.s.bus\n",
            "[2021-03-31 21:37:43,363]    INFO Correcting BUS records in sample2/tmp/output.s.bus to sample2/tmp/output.s.c.bus with whitelist sample2/10xv2_whitelist.txt\n",
            "[2021-03-31 21:37:47,960]    INFO Sorting BUS file sample2/tmp/output.s.c.bus to sample2/output.unfiltered.bus\n",
            "[2021-03-31 21:37:58,445]    INFO Generating count matrix sample2/counts_unfiltered/cells_x_genes from BUS file sample2/output.unfiltered.bus\n",
            "[2021-03-31 21:38:08,901]    INFO Reading matrix sample2/counts_unfiltered/cells_x_genes.mtx\n",
            "[2021-03-31 21:38:13,045]    INFO Writing matrix to h5ad sample2/counts_unfiltered/adata.h5ad\n",
            "[2021-03-31 21:38:13,797]    INFO Filtering with bustools\n",
            "[2021-03-31 21:38:13,798]    INFO Generating whitelist sample2/filter_barcodes.txt from BUS file sample2/output.unfiltered.bus\n",
            "[2021-03-31 21:38:13,965]    INFO Correcting BUS records in sample2/output.unfiltered.bus to sample2/tmp/output.unfiltered.c.bus with whitelist sample2/filter_barcodes.txt\n",
            "[2021-03-31 21:38:16,943]    INFO Sorting BUS file sample2/tmp/output.unfiltered.c.bus to sample2/output.filtered.bus\n",
            "[2021-03-31 21:38:25,772]    INFO Generating count matrix sample2/counts_filtered/cells_x_genes from BUS file sample2/output.filtered.bus\n",
            "[2021-03-31 21:38:33,900]    INFO Reading matrix sample2/counts_filtered/cells_x_genes.mtx\n",
            "[2021-03-31 21:38:36,553]    INFO Writing matrix to h5ad sample2/counts_filtered/adata.h5ad\n",
            "CPU times: user 7.29 s, sys: 1.04 s, total: 8.33 s\n",
            "Wall time: 19min 17s\n"
          ],
          "name": "stdout"
        }
      ]
    },
    {
      "cell_type": "markdown",
      "metadata": {
        "id": "yO2g-UUh47Fh"
      },
      "source": [
        "# Install `anndata`"
      ]
    },
    {
      "cell_type": "code",
      "metadata": {
        "id": "mZXJhn7w4ruH"
      },
      "source": [
        "!pip install --quiet anndata"
      ],
      "execution_count": 7,
      "outputs": []
    },
    {
      "cell_type": "markdown",
      "metadata": {
        "id": "dHsxyaqn4c-Y"
      },
      "source": [
        "# Read sample1 and sample2 gene counts into anndata"
      ]
    },
    {
      "cell_type": "code",
      "metadata": {
        "id": "2rSRaQft4cpT"
      },
      "source": [
        "import anndata\n",
        "sample1 = anndata.read_h5ad('sample1/counts_filtered/adata.h5ad')\n",
        "sample2 = anndata.read_h5ad('sample2/counts_filtered/adata.h5ad')"
      ],
      "execution_count": 8,
      "outputs": []
    },
    {
      "cell_type": "code",
      "metadata": {
        "id": "y1JETlwp4bLz",
        "colab": {
          "base_uri": "https://localhost:8080/"
        },
        "outputId": "16937b4c-4801-4b4f-ad71-b4c8ea3023ed"
      },
      "source": [
        "sample1"
      ],
      "execution_count": 9,
      "outputs": [
        {
          "output_type": "execute_result",
          "data": {
            "text/plain": [
              "AnnData object with n_obs × n_vars = 1424 × 60623\n",
              "    var: 'gene_name'"
            ]
          },
          "metadata": {
            "tags": []
          },
          "execution_count": 9
        }
      ]
    },
    {
      "cell_type": "code",
      "metadata": {
        "id": "toiaB5pE5kNf",
        "colab": {
          "base_uri": "https://localhost:8080/"
        },
        "outputId": "1db90a6b-8ab4-4a86-e85a-d52c372c7d80"
      },
      "source": [
        "sample1.X"
      ],
      "execution_count": 10,
      "outputs": [
        {
          "output_type": "execute_result",
          "data": {
            "text/plain": [
              "<1424x60623 sparse matrix of type '<class 'numpy.float32'>'\n",
              "\twith 4829530 stored elements in Compressed Sparse Row format>"
            ]
          },
          "metadata": {
            "tags": []
          },
          "execution_count": 10
        }
      ]
    },
    {
      "cell_type": "code",
      "metadata": {
        "id": "L2VfdfRN5m3f",
        "colab": {
          "base_uri": "https://localhost:8080/",
          "height": 212
        },
        "outputId": "39d021b9-9eca-44b5-e8ea-b8eb37dbcb36"
      },
      "source": [
        "sample1.obs.head()"
      ],
      "execution_count": 11,
      "outputs": [
        {
          "output_type": "execute_result",
          "data": {
            "text/html": [
              "<div>\n",
              "<style scoped>\n",
              "    .dataframe tbody tr th:only-of-type {\n",
              "        vertical-align: middle;\n",
              "    }\n",
              "\n",
              "    .dataframe tbody tr th {\n",
              "        vertical-align: top;\n",
              "    }\n",
              "\n",
              "    .dataframe thead th {\n",
              "        text-align: right;\n",
              "    }\n",
              "</style>\n",
              "<table border=\"1\" class=\"dataframe\">\n",
              "  <thead>\n",
              "    <tr style=\"text-align: right;\">\n",
              "      <th></th>\n",
              "    </tr>\n",
              "    <tr>\n",
              "      <th>barcode</th>\n",
              "    </tr>\n",
              "  </thead>\n",
              "  <tbody>\n",
              "    <tr>\n",
              "      <th>AAACCTGAGCTGTTCA</th>\n",
              "    </tr>\n",
              "    <tr>\n",
              "      <th>AAACCTGCAATTCCTT</th>\n",
              "    </tr>\n",
              "    <tr>\n",
              "      <th>AAACCTGGTCTACCTC</th>\n",
              "    </tr>\n",
              "    <tr>\n",
              "      <th>AAACCTGGTTTCCACC</th>\n",
              "    </tr>\n",
              "    <tr>\n",
              "      <th>AAACCTGTCCTATGTT</th>\n",
              "    </tr>\n",
              "  </tbody>\n",
              "</table>\n",
              "</div>"
            ],
            "text/plain": [
              "Empty DataFrame\n",
              "Columns: []\n",
              "Index: [AAACCTGAGCTGTTCA, AAACCTGCAATTCCTT, AAACCTGGTCTACCTC, AAACCTGGTTTCCACC, AAACCTGTCCTATGTT]"
            ]
          },
          "metadata": {
            "tags": []
          },
          "execution_count": 11
        }
      ]
    },
    {
      "cell_type": "code",
      "metadata": {
        "id": "YWEWgjri5nyW",
        "colab": {
          "base_uri": "https://localhost:8080/",
          "height": 228
        },
        "outputId": "e68d4dcd-19cc-45b4-d548-927d8a0e546c"
      },
      "source": [
        "sample1.var.head()"
      ],
      "execution_count": 12,
      "outputs": [
        {
          "output_type": "execute_result",
          "data": {
            "text/html": [
              "<div>\n",
              "<style scoped>\n",
              "    .dataframe tbody tr th:only-of-type {\n",
              "        vertical-align: middle;\n",
              "    }\n",
              "\n",
              "    .dataframe tbody tr th {\n",
              "        vertical-align: top;\n",
              "    }\n",
              "\n",
              "    .dataframe thead th {\n",
              "        text-align: right;\n",
              "    }\n",
              "</style>\n",
              "<table border=\"1\" class=\"dataframe\">\n",
              "  <thead>\n",
              "    <tr style=\"text-align: right;\">\n",
              "      <th></th>\n",
              "      <th>gene_name</th>\n",
              "    </tr>\n",
              "    <tr>\n",
              "      <th>gene_id</th>\n",
              "      <th></th>\n",
              "    </tr>\n",
              "  </thead>\n",
              "  <tbody>\n",
              "    <tr>\n",
              "      <th>ENSG00000223972.5</th>\n",
              "      <td>DDX11L1</td>\n",
              "    </tr>\n",
              "    <tr>\n",
              "      <th>ENSG00000227232.5</th>\n",
              "      <td>WASH7P</td>\n",
              "    </tr>\n",
              "    <tr>\n",
              "      <th>ENSG00000278267.1</th>\n",
              "      <td>MIR6859-1</td>\n",
              "    </tr>\n",
              "    <tr>\n",
              "      <th>ENSG00000243485.5</th>\n",
              "      <td>MIR1302-2HG</td>\n",
              "    </tr>\n",
              "    <tr>\n",
              "      <th>ENSG00000284332.1</th>\n",
              "      <td>MIR1302-2</td>\n",
              "    </tr>\n",
              "  </tbody>\n",
              "</table>\n",
              "</div>"
            ],
            "text/plain": [
              "                     gene_name\n",
              "gene_id                       \n",
              "ENSG00000223972.5      DDX11L1\n",
              "ENSG00000227232.5       WASH7P\n",
              "ENSG00000278267.1    MIR6859-1\n",
              "ENSG00000243485.5  MIR1302-2HG\n",
              "ENSG00000284332.1    MIR1302-2"
            ]
          },
          "metadata": {
            "tags": []
          },
          "execution_count": 12
        }
      ]
    },
    {
      "cell_type": "code",
      "metadata": {
        "id": "BXXRGL_s5omZ",
        "colab": {
          "base_uri": "https://localhost:8080/"
        },
        "outputId": "9e8f297d-e5f8-4797-f2e2-7f48c6da365a"
      },
      "source": [
        "sample2"
      ],
      "execution_count": 13,
      "outputs": [
        {
          "output_type": "execute_result",
          "data": {
            "text/plain": [
              "AnnData object with n_obs × n_vars = 281 × 60623\n",
              "    var: 'gene_name'"
            ]
          },
          "metadata": {
            "tags": []
          },
          "execution_count": 13
        }
      ]
    },
    {
      "cell_type": "code",
      "metadata": {
        "id": "r3J6sP405sY-",
        "colab": {
          "base_uri": "https://localhost:8080/"
        },
        "outputId": "c305a324-ebe7-4151-d2cb-5e572074ffef"
      },
      "source": [
        "sample2.X"
      ],
      "execution_count": 14,
      "outputs": [
        {
          "output_type": "execute_result",
          "data": {
            "text/plain": [
              "<281x60623 sparse matrix of type '<class 'numpy.float32'>'\n",
              "\twith 1282359 stored elements in Compressed Sparse Row format>"
            ]
          },
          "metadata": {
            "tags": []
          },
          "execution_count": 14
        }
      ]
    },
    {
      "cell_type": "code",
      "metadata": {
        "id": "K7CWpIoD5s6v",
        "colab": {
          "base_uri": "https://localhost:8080/",
          "height": 212
        },
        "outputId": "4a5ebb08-474f-4ec6-ce9f-c654e79d7a02"
      },
      "source": [
        "sample2.obs.head()"
      ],
      "execution_count": 15,
      "outputs": [
        {
          "output_type": "execute_result",
          "data": {
            "text/html": [
              "<div>\n",
              "<style scoped>\n",
              "    .dataframe tbody tr th:only-of-type {\n",
              "        vertical-align: middle;\n",
              "    }\n",
              "\n",
              "    .dataframe tbody tr th {\n",
              "        vertical-align: top;\n",
              "    }\n",
              "\n",
              "    .dataframe thead th {\n",
              "        text-align: right;\n",
              "    }\n",
              "</style>\n",
              "<table border=\"1\" class=\"dataframe\">\n",
              "  <thead>\n",
              "    <tr style=\"text-align: right;\">\n",
              "      <th></th>\n",
              "    </tr>\n",
              "    <tr>\n",
              "      <th>barcode</th>\n",
              "    </tr>\n",
              "  </thead>\n",
              "  <tbody>\n",
              "    <tr>\n",
              "      <th>AAACCTGAGACCACGA</th>\n",
              "    </tr>\n",
              "    <tr>\n",
              "      <th>AAACCTGTCTGATACG</th>\n",
              "    </tr>\n",
              "    <tr>\n",
              "      <th>AAACGGGAGTGTTGAA</th>\n",
              "    </tr>\n",
              "    <tr>\n",
              "      <th>AAAGATGTCAGAGACG</th>\n",
              "    </tr>\n",
              "    <tr>\n",
              "      <th>AAAGATGTCCGAACGC</th>\n",
              "    </tr>\n",
              "  </tbody>\n",
              "</table>\n",
              "</div>"
            ],
            "text/plain": [
              "Empty DataFrame\n",
              "Columns: []\n",
              "Index: [AAACCTGAGACCACGA, AAACCTGTCTGATACG, AAACGGGAGTGTTGAA, AAAGATGTCAGAGACG, AAAGATGTCCGAACGC]"
            ]
          },
          "metadata": {
            "tags": []
          },
          "execution_count": 15
        }
      ]
    },
    {
      "cell_type": "code",
      "metadata": {
        "id": "yCWRNkXC5uFs",
        "colab": {
          "base_uri": "https://localhost:8080/",
          "height": 228
        },
        "outputId": "28285761-0ba4-4c45-ee03-14a7d82600ab"
      },
      "source": [
        "sample2.var.head()"
      ],
      "execution_count": 16,
      "outputs": [
        {
          "output_type": "execute_result",
          "data": {
            "text/html": [
              "<div>\n",
              "<style scoped>\n",
              "    .dataframe tbody tr th:only-of-type {\n",
              "        vertical-align: middle;\n",
              "    }\n",
              "\n",
              "    .dataframe tbody tr th {\n",
              "        vertical-align: top;\n",
              "    }\n",
              "\n",
              "    .dataframe thead th {\n",
              "        text-align: right;\n",
              "    }\n",
              "</style>\n",
              "<table border=\"1\" class=\"dataframe\">\n",
              "  <thead>\n",
              "    <tr style=\"text-align: right;\">\n",
              "      <th></th>\n",
              "      <th>gene_name</th>\n",
              "    </tr>\n",
              "    <tr>\n",
              "      <th>gene_id</th>\n",
              "      <th></th>\n",
              "    </tr>\n",
              "  </thead>\n",
              "  <tbody>\n",
              "    <tr>\n",
              "      <th>ENSG00000223972.5</th>\n",
              "      <td>DDX11L1</td>\n",
              "    </tr>\n",
              "    <tr>\n",
              "      <th>ENSG00000227232.5</th>\n",
              "      <td>WASH7P</td>\n",
              "    </tr>\n",
              "    <tr>\n",
              "      <th>ENSG00000278267.1</th>\n",
              "      <td>MIR6859-1</td>\n",
              "    </tr>\n",
              "    <tr>\n",
              "      <th>ENSG00000243485.5</th>\n",
              "      <td>MIR1302-2HG</td>\n",
              "    </tr>\n",
              "    <tr>\n",
              "      <th>ENSG00000284332.1</th>\n",
              "      <td>MIR1302-2</td>\n",
              "    </tr>\n",
              "  </tbody>\n",
              "</table>\n",
              "</div>"
            ],
            "text/plain": [
              "                     gene_name\n",
              "gene_id                       \n",
              "ENSG00000223972.5      DDX11L1\n",
              "ENSG00000227232.5       WASH7P\n",
              "ENSG00000278267.1    MIR6859-1\n",
              "ENSG00000243485.5  MIR1302-2HG\n",
              "ENSG00000284332.1    MIR1302-2"
            ]
          },
          "metadata": {
            "tags": []
          },
          "execution_count": 16
        }
      ]
    },
    {
      "cell_type": "markdown",
      "metadata": {
        "id": "FPPpOvaR5yWE"
      },
      "source": [
        "## Concatenate the anndatas"
      ]
    },
    {
      "cell_type": "code",
      "metadata": {
        "id": "64iMMIeS5u2w"
      },
      "source": [
        "concat_samples = sample1.concatenate(\n",
        "    sample2, join='outer', batch_categories=['sample1', 'sample2'], index_unique='-'\n",
        ")"
      ],
      "execution_count": 17,
      "outputs": []
    },
    {
      "cell_type": "code",
      "metadata": {
        "id": "YaeQzZ9H6Aqy",
        "colab": {
          "base_uri": "https://localhost:8080/"
        },
        "outputId": "32ba485b-dd09-48c2-8b38-d9ced38965b7"
      },
      "source": [
        "concat_samples"
      ],
      "execution_count": 18,
      "outputs": [
        {
          "output_type": "execute_result",
          "data": {
            "text/plain": [
              "AnnData object with n_obs × n_vars = 1705 × 60623\n",
              "    obs: 'batch'\n",
              "    var: 'gene_name'"
            ]
          },
          "metadata": {
            "tags": []
          },
          "execution_count": 18
        }
      ]
    },
    {
      "cell_type": "code",
      "metadata": {
        "id": "fTc5dtU_6Beq",
        "colab": {
          "base_uri": "https://localhost:8080/",
          "height": 228
        },
        "outputId": "c5c7656f-f67f-4a30-dec0-8ae117be8155"
      },
      "source": [
        "concat_samples.var.head()"
      ],
      "execution_count": 19,
      "outputs": [
        {
          "output_type": "execute_result",
          "data": {
            "text/html": [
              "<div>\n",
              "<style scoped>\n",
              "    .dataframe tbody tr th:only-of-type {\n",
              "        vertical-align: middle;\n",
              "    }\n",
              "\n",
              "    .dataframe tbody tr th {\n",
              "        vertical-align: top;\n",
              "    }\n",
              "\n",
              "    .dataframe thead th {\n",
              "        text-align: right;\n",
              "    }\n",
              "</style>\n",
              "<table border=\"1\" class=\"dataframe\">\n",
              "  <thead>\n",
              "    <tr style=\"text-align: right;\">\n",
              "      <th></th>\n",
              "      <th>gene_name</th>\n",
              "    </tr>\n",
              "    <tr>\n",
              "      <th>gene_id</th>\n",
              "      <th></th>\n",
              "    </tr>\n",
              "  </thead>\n",
              "  <tbody>\n",
              "    <tr>\n",
              "      <th>ENSG00000223972.5</th>\n",
              "      <td>DDX11L1</td>\n",
              "    </tr>\n",
              "    <tr>\n",
              "      <th>ENSG00000227232.5</th>\n",
              "      <td>WASH7P</td>\n",
              "    </tr>\n",
              "    <tr>\n",
              "      <th>ENSG00000278267.1</th>\n",
              "      <td>MIR6859-1</td>\n",
              "    </tr>\n",
              "    <tr>\n",
              "      <th>ENSG00000243485.5</th>\n",
              "      <td>MIR1302-2HG</td>\n",
              "    </tr>\n",
              "    <tr>\n",
              "      <th>ENSG00000284332.1</th>\n",
              "      <td>MIR1302-2</td>\n",
              "    </tr>\n",
              "  </tbody>\n",
              "</table>\n",
              "</div>"
            ],
            "text/plain": [
              "                     gene_name\n",
              "gene_id                       \n",
              "ENSG00000223972.5      DDX11L1\n",
              "ENSG00000227232.5       WASH7P\n",
              "ENSG00000278267.1    MIR6859-1\n",
              "ENSG00000243485.5  MIR1302-2HG\n",
              "ENSG00000284332.1    MIR1302-2"
            ]
          },
          "metadata": {
            "tags": []
          },
          "execution_count": 19
        }
      ]
    },
    {
      "cell_type": "code",
      "metadata": {
        "id": "myIrPHxa6C51",
        "colab": {
          "base_uri": "https://localhost:8080/",
          "height": 437
        },
        "outputId": "029944be-9cd0-431a-d91c-f940581a95c4"
      },
      "source": [
        "concat_samples.obs"
      ],
      "execution_count": 20,
      "outputs": [
        {
          "output_type": "execute_result",
          "data": {
            "text/html": [
              "<div>\n",
              "<style scoped>\n",
              "    .dataframe tbody tr th:only-of-type {\n",
              "        vertical-align: middle;\n",
              "    }\n",
              "\n",
              "    .dataframe tbody tr th {\n",
              "        vertical-align: top;\n",
              "    }\n",
              "\n",
              "    .dataframe thead th {\n",
              "        text-align: right;\n",
              "    }\n",
              "</style>\n",
              "<table border=\"1\" class=\"dataframe\">\n",
              "  <thead>\n",
              "    <tr style=\"text-align: right;\">\n",
              "      <th></th>\n",
              "      <th>batch</th>\n",
              "    </tr>\n",
              "    <tr>\n",
              "      <th>barcode</th>\n",
              "      <th></th>\n",
              "    </tr>\n",
              "  </thead>\n",
              "  <tbody>\n",
              "    <tr>\n",
              "      <th>AAACCTGAGCTGTTCA-sample1</th>\n",
              "      <td>sample1</td>\n",
              "    </tr>\n",
              "    <tr>\n",
              "      <th>AAACCTGCAATTCCTT-sample1</th>\n",
              "      <td>sample1</td>\n",
              "    </tr>\n",
              "    <tr>\n",
              "      <th>AAACCTGGTCTACCTC-sample1</th>\n",
              "      <td>sample1</td>\n",
              "    </tr>\n",
              "    <tr>\n",
              "      <th>AAACCTGGTTTCCACC-sample1</th>\n",
              "      <td>sample1</td>\n",
              "    </tr>\n",
              "    <tr>\n",
              "      <th>AAACCTGTCCTATGTT-sample1</th>\n",
              "      <td>sample1</td>\n",
              "    </tr>\n",
              "    <tr>\n",
              "      <th>...</th>\n",
              "      <td>...</td>\n",
              "    </tr>\n",
              "    <tr>\n",
              "      <th>TTTGCGCGTTGACGTT-sample2</th>\n",
              "      <td>sample2</td>\n",
              "    </tr>\n",
              "    <tr>\n",
              "      <th>TTTGCGCGTTGTCTTT-sample2</th>\n",
              "      <td>sample2</td>\n",
              "    </tr>\n",
              "    <tr>\n",
              "      <th>TTTGGTTGTCATGCAT-sample2</th>\n",
              "      <td>sample2</td>\n",
              "    </tr>\n",
              "    <tr>\n",
              "      <th>TTTGTCAGTGAGTGAC-sample2</th>\n",
              "      <td>sample2</td>\n",
              "    </tr>\n",
              "    <tr>\n",
              "      <th>TTTGTCATCTTCATGT-sample2</th>\n",
              "      <td>sample2</td>\n",
              "    </tr>\n",
              "  </tbody>\n",
              "</table>\n",
              "<p>1705 rows × 1 columns</p>\n",
              "</div>"
            ],
            "text/plain": [
              "                            batch\n",
              "barcode                          \n",
              "AAACCTGAGCTGTTCA-sample1  sample1\n",
              "AAACCTGCAATTCCTT-sample1  sample1\n",
              "AAACCTGGTCTACCTC-sample1  sample1\n",
              "AAACCTGGTTTCCACC-sample1  sample1\n",
              "AAACCTGTCCTATGTT-sample1  sample1\n",
              "...                           ...\n",
              "TTTGCGCGTTGACGTT-sample2  sample2\n",
              "TTTGCGCGTTGTCTTT-sample2  sample2\n",
              "TTTGGTTGTCATGCAT-sample2  sample2\n",
              "TTTGTCAGTGAGTGAC-sample2  sample2\n",
              "TTTGTCATCTTCATGT-sample2  sample2\n",
              "\n",
              "[1705 rows x 1 columns]"
            ]
          },
          "metadata": {
            "tags": []
          },
          "execution_count": 20
        }
      ]
    },
    {
      "cell_type": "code",
      "metadata": {
        "id": "K0h7gL5B6FQp"
      },
      "source": [
        ""
      ],
      "execution_count": 20,
      "outputs": []
    }
  ]
}