{
  "nbformat": 4,
  "nbformat_minor": 0,
  "metadata": {
    "colab": {
      "name": "kb_transcriptome_index.ipynb",
      "provenance": [],
      "include_colab_link": true
    },
    "kernelspec": {
      "name": "python3",
      "display_name": "Python 3"
    }
  },
  "cells": [
    {
      "cell_type": "markdown",
      "metadata": {
        "id": "view-in-github",
        "colab_type": "text"
      },
      "source": [
        "<a href=\"https://colab.research.google.com/github/pachterlab/kallistobustools/blob/master/tutorials/docs/tutorials/kb_custom_index/python/kb_transcriptome_index.ipynb\" target=\"_parent\"><img src=\"https://colab.research.google.com/assets/colab-badge.svg\" alt=\"Open In Colab\"/></a>"
      ]
    },
    {
      "cell_type": "markdown",
      "metadata": {
        "id": "f2c28vDQ_9YQ"
      },
      "source": [
        "# Constructing a transcriptome index with `kb`\n",
        "\n",
        "This tutorial provides instructions for how to generate a transcriptome index to use with **kallisto | bustools** using `kb`."
      ]
    },
    {
      "cell_type": "markdown",
      "metadata": {
        "id": "chEJEYYAAGv4"
      },
      "source": [
        "## Download reference files\n",
        "\n",
        "Download the genomic (DNA) FASTA and GTF annotations for your desired organism from the database of your choice. This tutorial uses mouse reference files downloaded from [Ensembl](https://uswest.ensembl.org/info/data/ftp/index.html)."
      ]
    },
    {
      "cell_type": "code",
      "metadata": {
        "id": "jrpcrAnk_6CM",
        "colab": {
          "base_uri": "https://localhost:8080/"
        },
        "outputId": "1d9906cf-1ccd-433f-fdae-e1f4d1a9a8bd"
      },
      "source": [
        "%%time\n",
        "!wget -q ftp://ftp.ensembl.org/pub/release-98/fasta/mus_musculus/dna/Mus_musculus.GRCm38.dna.primary_assembly.fa.gz\n",
        "!wget -q ftp://ftp.ensembl.org/pub/release-98/gtf/mus_musculus/Mus_musculus.GRCm38.98.gtf.gz"
      ],
      "execution_count": 1,
      "outputs": [
        {
          "output_type": "stream",
          "text": [
            "CPU times: user 173 ms, sys: 37.3 ms, total: 211 ms\n",
            "Wall time: 28.8 s\n"
          ],
          "name": "stdout"
        }
      ]
    },
    {
      "cell_type": "markdown",
      "metadata": {
        "id": "gmEOgZOXAunP"
      },
      "source": [
        "## Install `kb`"
      ]
    },
    {
      "cell_type": "code",
      "metadata": {
        "id": "h5VvSkEvAv31",
        "colab": {
          "base_uri": "https://localhost:8080/"
        },
        "outputId": "3fbc94bc-7e9c-4e32-f832-0d44637c81cc"
      },
      "source": [
        "!pip install --quiet kb-python"
      ],
      "execution_count": 2,
      "outputs": [
        {
          "output_type": "stream",
          "text": [
            "\u001b[K     |████████████████████████████████| 59.1MB 71kB/s \n",
            "\u001b[K     |████████████████████████████████| 51kB 4.9MB/s \n",
            "\u001b[K     |████████████████████████████████| 122kB 46.5MB/s \n",
            "\u001b[K     |████████████████████████████████| 13.2MB 42.9MB/s \n",
            "\u001b[K     |████████████████████████████████| 10.3MB 30.2MB/s \n",
            "\u001b[K     |████████████████████████████████| 112kB 61.3MB/s \n",
            "\u001b[K     |████████████████████████████████| 81kB 7.9MB/s \n",
            "\u001b[K     |████████████████████████████████| 1.2MB 42.2MB/s \n",
            "\u001b[K     |████████████████████████████████| 51kB 3.8MB/s \n",
            "\u001b[K     |████████████████████████████████| 71kB 5.2MB/s \n",
            "\u001b[?25h  Building wheel for loompy (setup.py) ... \u001b[?25l\u001b[?25hdone\n",
            "  Building wheel for numpy-groupies (setup.py) ... \u001b[?25l\u001b[?25hdone\n",
            "  Building wheel for umap-learn (setup.py) ... \u001b[?25l\u001b[?25hdone\n",
            "  Building wheel for sinfo (setup.py) ... \u001b[?25l\u001b[?25hdone\n",
            "  Building wheel for pynndescent (setup.py) ... \u001b[?25l\u001b[?25hdone\n"
          ],
          "name": "stdout"
        }
      ]
    },
    {
      "cell_type": "markdown",
      "metadata": {
        "id": "ni0WfFI_AgQF"
      },
      "source": [
        "## Build the index\n",
        "\n",
        "`kb` automatically splits the genome into a cDNA FASTA file and uses that to build a kallisto index."
      ]
    },
    {
      "cell_type": "code",
      "metadata": {
        "id": "m8dcPtRZAR7r",
        "colab": {
          "base_uri": "https://localhost:8080/"
        },
        "outputId": "a9f788e8-c1f9-46fb-bf40-06fc03732f1f"
      },
      "source": [
        "%%time\n",
        "!kb ref -i transcriptome.idx -g transcripts_to_genes.txt -f1 cdna.fa \\\n",
        "Mus_musculus.GRCm38.dna.primary_assembly.fa.gz \\\n",
        "Mus_musculus.GRCm38.98.gtf.gz"
      ],
      "execution_count": 3,
      "outputs": [
        {
          "output_type": "stream",
          "text": [
            "[2021-03-31 19:42:16,748]    INFO Preparing Mus_musculus.GRCm38.dna.primary_assembly.fa.gz, Mus_musculus.GRCm38.98.gtf.gz\n",
            "[2021-03-31 19:42:16,748]    INFO Decompressing Mus_musculus.GRCm38.98.gtf.gz to tmp\n",
            "[2021-03-31 19:42:20,207]    INFO Creating transcript-to-gene mapping at /content/tmp/tmp8orgc74k\n",
            "[2021-03-31 19:43:01,135]    INFO Decompressing Mus_musculus.GRCm38.dna.primary_assembly.fa.gz to tmp\n",
            "[2021-03-31 19:43:25,710]    INFO Sorting tmp/Mus_musculus.GRCm38.dna.primary_assembly.fa to /content/tmp/tmpees_4ry7\n",
            "[2021-03-31 19:50:50,364]    INFO Sorting tmp/Mus_musculus.GRCm38.98.gtf to /content/tmp/tmpssw7nu7e\n",
            "[2021-03-31 19:51:51,290]    INFO Splitting genome tmp/Mus_musculus.GRCm38.dna.primary_assembly.fa into cDNA at /content/tmp/tmpg65jndu0\n",
            "[2021-03-31 19:51:51,290] WARNING The following chromosomes were found in the FASTA but does not have any \"transcript\" features in the GTF: JH584302.1, GL456387.1, GL456396.1, GL456367.1, GL456366.1, GL456394.1, GL456383.1, GL456382.1, GL456393.1, GL456368.1, GL456379.1, GL456390.1, GL456378.1, GL456360.1, GL456389.1, JH584301.1, JH584300.1, GL456392.1, GL456370.1, GL456359.1, GL456213.1. No sequences will be generated for these chromosomes.\n",
            "[2021-03-31 19:53:04,043]    INFO Wrote 142446 cDNA transcripts\n",
            "[2021-03-31 19:53:04,047]    INFO Concatenating 1 transcript-to-gene mappings to transcripts_to_genes.txt\n",
            "[2021-03-31 19:53:04,264]    INFO Concatenating 1 cDNAs to cdna.fa\n",
            "[2021-03-31 19:53:05,204]    INFO Indexing cdna.fa to transcriptome.idx\n",
            "CPU times: user 7.92 s, sys: 1.04 s, total: 8.96 s\n",
            "Wall time: 21min 57s\n"
          ],
          "name": "stdout"
        }
      ]
    },
    {
      "cell_type": "code",
      "metadata": {
        "id": "h6TozulXAspe"
      },
      "source": [
        ""
      ],
      "execution_count": 3,
      "outputs": []
    }
  ]
}