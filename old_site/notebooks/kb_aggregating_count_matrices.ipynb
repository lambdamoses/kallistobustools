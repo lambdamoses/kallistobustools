{
  "nbformat": 4,
  "nbformat_minor": 0,
  "metadata": {
    "colab": {
      "name": "kb_aggregating_count_matrices.ipynb",
      "provenance": [],
      "collapsed_sections": [],
      "toc_visible": true,
      "machine_shape": "hm"
    },
    "kernelspec": {
      "name": "python3",
      "display_name": "Python 3"
    }
  },
  "cells": [
    {
      "cell_type": "markdown",
      "metadata": {
        "id": "eJRaTt1i1bUV",
        "colab_type": "text"
      },
      "source": [
        "# Aggregating multiple count matrices tutorial\n",
        "\n",
        "This tutorial describes how to aggregate multiple count matrices by concatenating them into a single [AnnData](https://anndata.readthedocs.io/en/latest/anndata.AnnData.html) object with batch labels for different samples.\n",
        "\n",
        "This is similar to the Cell Ranger aggr function, however no normalization is performed. cellranger aggr is described at https://support.10xgenomics.com/single-cell-gene-expression/software/pipelines/latest/using/aggregate\n",
        "\n",
        "For this tutorial we use dataset E-MTAB-6108."
      ]
    },
    {
      "cell_type": "markdown",
      "metadata": {
        "id": "Xmowj3mO1fni",
        "colab_type": "text"
      },
      "source": [
        "## Download the raw data\n",
        "\n",
        "The raw data for E-MTAB-6108 is available at https://www.ebi.ac.uk/arrayexpress/experiments/E-MTAB-6108/"
      ]
    },
    {
      "cell_type": "code",
      "metadata": {
        "id": "v0LMbyEs1U-9",
        "colab_type": "code",
        "outputId": "8af4fc19-54f8-4f1f-d0bb-0484d66c2e00",
        "colab": {
          "base_uri": "https://localhost:8080/",
          "height": 799
        }
      },
      "source": [
        "%%time\n",
        "!wget https://www.ebi.ac.uk/arrayexpress/files/E-MTAB-6108/iPSC_RGCscRNAseq_Sample1_L005_R1.fastq.gz\n",
        "!wget https://www.ebi.ac.uk/arrayexpress/files/E-MTAB-6108/iPSC_RGCscRNAseq_Sample1_L005_R2.fastq.gz\n",
        "!wget https://www.ebi.ac.uk/arrayexpress/files/E-MTAB-6108/iPSC_RGCscRNAseq_Sample2_L005_R1.fastq.gz\n",
        "!wget https://www.ebi.ac.uk/arrayexpress/files/E-MTAB-6108/iPSC_RGCscRNAseq_Sample2_L005_R2.fastq.gz"
      ],
      "execution_count": 0,
      "outputs": [
        {
          "output_type": "stream",
          "text": [
            "--2020-01-14 22:03:03--  https://www.ebi.ac.uk/arrayexpress/files/E-MTAB-6108/iPSC_RGCscRNAseq_Sample1_L005_R1.fastq.gz\n",
            "Resolving www.ebi.ac.uk (www.ebi.ac.uk)... 193.62.193.80\n",
            "Connecting to www.ebi.ac.uk (www.ebi.ac.uk)|193.62.193.80|:443... connected.\n",
            "HTTP request sent, awaiting response... 200 OK\n",
            "Length: 2812327595 (2.6G) [application/x-gzip]\n",
            "Saving to: ‘iPSC_RGCscRNAseq_Sample1_L005_R1.fastq.gz’\n",
            "\n",
            "iPSC_RGCscRNAseq_Sa 100%[===================>]   2.62G  25.9MB/s    in 1m 46s  \n",
            "\n",
            "2020-01-14 22:04:55 (25.4 MB/s) - ‘iPSC_RGCscRNAseq_Sample1_L005_R1.fastq.gz’ saved [2812327595/2812327595]\n",
            "\n",
            "--2020-01-14 22:04:56--  https://www.ebi.ac.uk/arrayexpress/files/E-MTAB-6108/iPSC_RGCscRNAseq_Sample1_L005_R2.fastq.gz\n",
            "Resolving www.ebi.ac.uk (www.ebi.ac.uk)... 193.62.193.80\n",
            "Connecting to www.ebi.ac.uk (www.ebi.ac.uk)|193.62.193.80|:443... connected.\n",
            "HTTP request sent, awaiting response... 200 OK\n",
            "Length: 10626337032 (9.9G) [application/x-gzip]\n",
            "Saving to: ‘iPSC_RGCscRNAseq_Sample1_L005_R2.fastq.gz’\n",
            "\n",
            "iPSC_RGCscRNAseq_Sa 100%[===================>]   9.90G  26.7MB/s    in 6m 33s  \n",
            "\n",
            "2020-01-14 22:11:29 (25.8 MB/s) - ‘iPSC_RGCscRNAseq_Sample1_L005_R2.fastq.gz’ saved [10626337032/10626337032]\n",
            "\n",
            "--2020-01-14 22:11:30--  https://www.ebi.ac.uk/arrayexpress/files/E-MTAB-6108/iPSC_RGCscRNAseq_Sample2_L005_R1.fastq.gz\n",
            "Resolving www.ebi.ac.uk (www.ebi.ac.uk)... 193.62.193.80\n",
            "Connecting to www.ebi.ac.uk (www.ebi.ac.uk)|193.62.193.80|:443... connected.\n",
            "HTTP request sent, awaiting response... 200 OK\n",
            "Length: 1938548485 (1.8G) [application/x-gzip]\n",
            "Saving to: ‘iPSC_RGCscRNAseq_Sample2_L005_R1.fastq.gz’\n",
            "\n",
            "iPSC_RGCscRNAseq_Sa 100%[===================>]   1.80G  27.6MB/s    in 72s     \n",
            "\n",
            "2020-01-14 22:12:43 (25.5 MB/s) - ‘iPSC_RGCscRNAseq_Sample2_L005_R1.fastq.gz’ saved [1938548485/1938548485]\n",
            "\n",
            "--2020-01-14 22:12:44--  https://www.ebi.ac.uk/arrayexpress/files/E-MTAB-6108/iPSC_RGCscRNAseq_Sample2_L005_R2.fastq.gz\n",
            "Resolving www.ebi.ac.uk (www.ebi.ac.uk)... 193.62.193.80\n",
            "Connecting to www.ebi.ac.uk (www.ebi.ac.uk)|193.62.193.80|:443... connected.\n",
            "HTTP request sent, awaiting response... 200 OK\n",
            "Length: 7563578426 (7.0G) [application/x-gzip]\n",
            "Saving to: ‘iPSC_RGCscRNAseq_Sample2_L005_R2.fastq.gz’\n",
            "\n",
            "iPSC_RGCscRNAseq_Sa 100%[===================>]   7.04G  27.6MB/s    in 4m 42s  \n",
            "\n",
            "2020-01-14 22:17:27 (25.6 MB/s) - ‘iPSC_RGCscRNAseq_Sample2_L005_R2.fastq.gz’ saved [7563578426/7563578426]\n",
            "\n",
            "CPU times: user 6.92 s, sys: 1.37 s, total: 8.29 s\n",
            "Wall time: 14min 24s\n"
          ],
          "name": "stdout"
        }
      ]
    },
    {
      "cell_type": "markdown",
      "metadata": {
        "id": "d7rr2XIP2pCf",
        "colab_type": "text"
      },
      "source": [
        "## Install `kb`\n",
        "\n",
        "Install `kb` for running the kallisto|bustools workflow."
      ]
    },
    {
      "cell_type": "code",
      "metadata": {
        "id": "ESlzKNew2TGM",
        "colab_type": "code",
        "outputId": "c947daa9-f254-41c8-d5a1-7095f9da6a89",
        "colab": {
          "base_uri": "https://localhost:8080/",
          "height": 595
        }
      },
      "source": [
        "!pip install kb-python"
      ],
      "execution_count": 0,
      "outputs": [
        {
          "output_type": "stream",
          "text": [
            "Collecting kb-python\n",
            "\u001b[?25l  Downloading https://files.pythonhosted.org/packages/62/c9/2e5b8fa2cd873a23ae1aeb128b33165d6a9387a2f56ea1fafec1d6d32477/kb_python-0.24.4-py3-none-any.whl (35.4MB)\n",
            "\u001b[K     |████████████████████████████████| 35.4MB 75kB/s \n",
            "\u001b[?25hCollecting loompy>=3.0.6\n",
            "\u001b[?25l  Downloading https://files.pythonhosted.org/packages/36/52/74ed37ae5988522fbf87b856c67c4f80700e6452410b4cd80498c5f416f9/loompy-3.0.6.tar.gz (41kB)\n",
            "\u001b[K     |████████████████████████████████| 51kB 5.6MB/s \n",
            "\u001b[?25hCollecting anndata>=0.6.22.post1\n",
            "\u001b[?25l  Downloading https://files.pythonhosted.org/packages/2b/72/87196c15f68d9865c31a43a10cf7c50bcbcedd5607d09f9aada0b3963103/anndata-0.6.22.post1-py3-none-any.whl (47kB)\n",
            "\u001b[K     |████████████████████████████████| 51kB 5.8MB/s \n",
            "\u001b[?25hRequirement already satisfied: h5py in /usr/local/lib/python3.6/dist-packages (from loompy>=3.0.6->kb-python) (2.8.0)\n",
            "Requirement already satisfied: numpy in /usr/local/lib/python3.6/dist-packages (from loompy>=3.0.6->kb-python) (1.17.5)\n",
            "Requirement already satisfied: scipy in /usr/local/lib/python3.6/dist-packages (from loompy>=3.0.6->kb-python) (1.4.1)\n",
            "Requirement already satisfied: setuptools in /usr/local/lib/python3.6/dist-packages (from loompy>=3.0.6->kb-python) (42.0.2)\n",
            "Requirement already satisfied: numba in /usr/local/lib/python3.6/dist-packages (from loompy>=3.0.6->kb-python) (0.47.0)\n",
            "Requirement already satisfied: click in /usr/local/lib/python3.6/dist-packages (from loompy>=3.0.6->kb-python) (7.0)\n",
            "Collecting numpy-groupies\n",
            "\u001b[?25l  Downloading https://files.pythonhosted.org/packages/57/ae/18217b57ba3e4bb8a44ecbfc161ed065f6d1b90c75d404bd6ba8d6f024e2/numpy_groupies-0.9.10.tar.gz (43kB)\n",
            "\u001b[K     |████████████████████████████████| 51kB 6.1MB/s \n",
            "\u001b[?25hRequirement already satisfied: pandas>=0.23.0 in /usr/local/lib/python3.6/dist-packages (from anndata>=0.6.22.post1->kb-python) (0.25.3)\n",
            "Requirement already satisfied: natsort in /usr/local/lib/python3.6/dist-packages (from anndata>=0.6.22.post1->kb-python) (5.5.0)\n",
            "Requirement already satisfied: six in /usr/local/lib/python3.6/dist-packages (from h5py->loompy>=3.0.6->kb-python) (1.12.0)\n",
            "Requirement already satisfied: llvmlite>=0.31.0dev0 in /usr/local/lib/python3.6/dist-packages (from numba->loompy>=3.0.6->kb-python) (0.31.0)\n",
            "Requirement already satisfied: python-dateutil>=2.6.1 in /usr/local/lib/python3.6/dist-packages (from pandas>=0.23.0->anndata>=0.6.22.post1->kb-python) (2.6.1)\n",
            "Requirement already satisfied: pytz>=2017.2 in /usr/local/lib/python3.6/dist-packages (from pandas>=0.23.0->anndata>=0.6.22.post1->kb-python) (2018.9)\n",
            "Building wheels for collected packages: loompy, numpy-groupies\n",
            "  Building wheel for loompy (setup.py) ... \u001b[?25l\u001b[?25hdone\n",
            "  Created wheel for loompy: filename=loompy-3.0.6-cp36-none-any.whl size=47896 sha256=47ebc61e06159e73ae729b6d3f65f4e13422a67ac13e5d7aab3c15af4fe93961\n",
            "  Stored in directory: /root/.cache/pip/wheels/f9/a4/90/5a98ad83419732b0fba533b81a2a52ba3dbe230a936ca4cdc9\n",
            "  Building wheel for numpy-groupies (setup.py) ... \u001b[?25l\u001b[?25hdone\n",
            "  Created wheel for numpy-groupies: filename=numpy_groupies-0+unknown-cp36-none-any.whl size=28044 sha256=50bf49ee83e33e8c5312562dd519758710d97415c67a9e857aee497922da19d8\n",
            "  Stored in directory: /root/.cache/pip/wheels/30/ac/83/64d5f9293aeaec63f9539142fc629a41af064cae1b3d8d94aa\n",
            "Successfully built loompy numpy-groupies\n",
            "Installing collected packages: numpy-groupies, loompy, anndata, kb-python\n",
            "Successfully installed anndata-0.6.22.post1 kb-python-0.24.4 loompy-3.0.6 numpy-groupies-0+unknown\n"
          ],
          "name": "stdout"
        }
      ]
    },
    {
      "cell_type": "markdown",
      "metadata": {
        "id": "BUih8fH13Idv",
        "colab_type": "text"
      },
      "source": [
        "## Download a pre-built human index\n",
        "\n",
        "__Note:__ See [this notebook]() for a tutorial on how to build custom transcriptome or RNA velocity indices."
      ]
    },
    {
      "cell_type": "code",
      "metadata": {
        "id": "SwEzGTrm3GR2",
        "colab_type": "code",
        "outputId": "4af7dda1-c039-469e-828d-3dc9d6aaa862",
        "colab": {
          "base_uri": "https://localhost:8080/",
          "height": 85
        }
      },
      "source": [
        "%%time\n",
        "!kb ref -d human -i index.idx -g t2g.txt"
      ],
      "execution_count": 0,
      "outputs": [
        {
          "output_type": "stream",
          "text": [
            "[2020-01-14 22:17:40,464]    INFO Downloading files for human from https://caltech.box.com/shared/static/v1nm7lpnqz5syh8dyzdk2zs8bglncfib.gz to tmp/v1nm7lpnqz5syh8dyzdk2zs8bglncfib.gz\n",
            "[2020-01-14 22:19:31,668]    INFO Extracting files from tmp/v1nm7lpnqz5syh8dyzdk2zs8bglncfib.gz\n",
            "CPU times: user 578 ms, sys: 77.4 ms, total: 655 ms\n",
            "Wall time: 2min 32s\n"
          ],
          "name": "stdout"
        }
      ]
    },
    {
      "cell_type": "markdown",
      "metadata": {
        "id": "OylbmePH3ncf",
        "colab_type": "text"
      },
      "source": [
        "## Generate an RNA count matrices in H5AD format\n",
        "\n",
        "The following command will generate an RNA count matrix of cells (rows) by genes (columns) in H5AD format, which is a binary format used to store [Anndata](https://anndata.readthedocs.io/en/stable/) objects. Notice we are providing the index and transcript-to-gene mapping we downloaded in the previous step to the `-i` and `-g` arguments respectively. Also, these reads were generated with the 10x Genomics Chromium Single Cell v2 Chemistry, hence the `-x 10xv2` argument. To view other supported technologies, run `kb --list`.\n",
        "\n",
        "The `--filter` flag is used to filter out barcodes with low UMI counts. This will generate two matrices, one in the `counts_unfiltered` directory and another in the `counts_filtered` directory.\n",
        "\n",
        "__Note:__ If you would like a Loom file instead, replace the `--h5ad` flag with `--loom`. If you want to use the raw matrix output by `kb` instead of their H5AD or Loom converted files, omit these flags."
      ]
    },
    {
      "cell_type": "markdown",
      "metadata": {
        "id": "j3Pqemrm36u_",
        "colab_type": "text"
      },
      "source": [
        "### Sample 1"
      ]
    },
    {
      "cell_type": "code",
      "metadata": {
        "id": "04aLTAek3kG8",
        "colab_type": "code",
        "outputId": "46d7276a-a9b4-45b2-9e8f-377093c01fe7",
        "colab": {
          "base_uri": "https://localhost:8080/",
          "height": 306
        }
      },
      "source": [
        "%%time\n",
        "!kb count -i index.idx -g t2g.txt -x 10xv2 -o sample1 --h5ad -t 2 --filter bustools \\\n",
        "iPSC_RGCscRNAseq_Sample1_L005_R1.fastq.gz \\\n",
        "iPSC_RGCscRNAseq_Sample1_L005_R2.fastq.gz"
      ],
      "execution_count": 0,
      "outputs": [
        {
          "output_type": "stream",
          "text": [
            "[2020-01-14 22:55:56,693]    INFO Skipping kallisto bus because output files already exist. Use the --overwrite flag to overwrite.\n",
            "[2020-01-14 22:55:56,693]    INFO Sorting BUS file sample1/output.bus to tmp/output.s.bus\n",
            "[2020-01-14 22:57:31,354]    INFO Whitelist not provided\n",
            "[2020-01-14 22:57:31,354]    INFO Copying pre-packaged 10XV2 whitelist to sample1\n",
            "[2020-01-14 22:57:35,347]    INFO Inspecting BUS file tmp/output.s.bus\n",
            "[2020-01-14 22:57:47,155]    INFO Correcting BUS records in tmp/output.s.bus to tmp/output.s.c.bus with whitelist sample1/10xv2_whitelist.txt\n",
            "[2020-01-14 22:58:13,462]    INFO Sorting BUS file tmp/output.s.c.bus to sample1/output.unfiltered.bus\n",
            "[2020-01-14 22:58:48,480]    INFO Generating count matrix sample1/counts_unfiltered/cells_x_genes from BUS file sample1/output.unfiltered.bus\n",
            "[2020-01-14 22:59:01,129]    INFO Converting matrix sample1/counts_unfiltered/cells_x_genes.mtx to h5ad sample1/counts_unfiltered/adata.h5ad\n",
            "[2020-01-14 22:59:11,951]    INFO Filtering with bustools\n",
            "[2020-01-14 22:59:11,952]    INFO Generating whitelist sample1/filter_barcodes.txt from BUS file sample1/output.unfiltered.bus\n",
            "[2020-01-14 22:59:12,274]    INFO Capturing records from BUS file sample1/output.unfiltered.bus to tmp/output.filtered.bus with capture list sample1/filter_barcodes.txt\n",
            "[2020-01-14 22:59:15,831]    INFO Sorting BUS file tmp/output.filtered.bus to sample1/output.filtered.bus\n",
            "[2020-01-14 22:59:52,828]    INFO Generating count matrix sample1/counts_filtered/cells_x_genes from BUS file sample1/output.filtered.bus\n",
            "[2020-01-14 23:00:03,942]    INFO Converting matrix sample1/counts_filtered/cells_x_genes.mtx to h5ad sample1/counts_filtered/adata.h5ad\n",
            "CPU times: user 1.24 s, sys: 161 ms, total: 1.4 s\n",
            "Wall time: 4min 16s\n"
          ],
          "name": "stdout"
        }
      ]
    },
    {
      "cell_type": "markdown",
      "metadata": {
        "id": "6IzkOJI84Rpx",
        "colab_type": "text"
      },
      "source": [
        "### Sample 2"
      ]
    },
    {
      "cell_type": "code",
      "metadata": {
        "id": "9kR5WOrx4I2D",
        "colab_type": "code",
        "outputId": "23a9ab0b-72de-490f-91d5-4b325ae31a58",
        "colab": {
          "base_uri": "https://localhost:8080/",
          "height": 306
        }
      },
      "source": [
        "%%time\n",
        "!kb count -i index.idx -g t2g.txt -x 10xv2 -o sample2 --h5ad -t 2 --filter bustools \\\n",
        "iPSC_RGCscRNAseq_Sample2_L005_R1.fastq.gz \\\n",
        "iPSC_RGCscRNAseq_Sample2_L005_R2.fastq.gz"
      ],
      "execution_count": 0,
      "outputs": [
        {
          "output_type": "stream",
          "text": [
            "[2020-01-14 23:00:13,871]    INFO Skipping kallisto bus because output files already exist. Use the --overwrite flag to overwrite.\n",
            "[2020-01-14 23:00:13,871]    INFO Sorting BUS file sample2/output.bus to tmp/output.s.bus\n",
            "[2020-01-14 23:01:14,475]    INFO Whitelist not provided\n",
            "[2020-01-14 23:01:14,475]    INFO Copying pre-packaged 10XV2 whitelist to sample2\n",
            "[2020-01-14 23:01:14,681]    INFO Inspecting BUS file tmp/output.s.bus\n",
            "[2020-01-14 23:01:21,144]    INFO Correcting BUS records in tmp/output.s.bus to tmp/output.s.c.bus with whitelist sample2/10xv2_whitelist.txt\n",
            "[2020-01-14 23:01:45,237]    INFO Sorting BUS file tmp/output.s.c.bus to sample2/output.unfiltered.bus\n",
            "[2020-01-14 23:01:54,119]    INFO Generating count matrix sample2/counts_unfiltered/cells_x_genes from BUS file sample2/output.unfiltered.bus\n",
            "[2020-01-14 23:01:59,981]    INFO Converting matrix sample2/counts_unfiltered/cells_x_genes.mtx to h5ad sample2/counts_unfiltered/adata.h5ad\n",
            "[2020-01-14 23:02:03,635]    INFO Filtering with bustools\n",
            "[2020-01-14 23:02:03,635]    INFO Generating whitelist sample2/filter_barcodes.txt from BUS file sample2/output.unfiltered.bus\n",
            "[2020-01-14 23:02:03,803]    INFO Capturing records from BUS file sample2/output.unfiltered.bus to tmp/output.filtered.bus with capture list sample2/filter_barcodes.txt\n",
            "[2020-01-14 23:02:05,366]    INFO Sorting BUS file tmp/output.filtered.bus to sample2/output.filtered.bus\n",
            "[2020-01-14 23:02:12,500]    INFO Generating count matrix sample2/counts_filtered/cells_x_genes from BUS file sample2/output.filtered.bus\n",
            "[2020-01-14 23:02:17,853]    INFO Converting matrix sample2/counts_filtered/cells_x_genes.mtx to h5ad sample2/counts_filtered/adata.h5ad\n",
            "CPU times: user 626 ms, sys: 82.7 ms, total: 709 ms\n",
            "Wall time: 2min 7s\n"
          ],
          "name": "stdout"
        }
      ]
    },
    {
      "cell_type": "markdown",
      "metadata": {
        "id": "yO2g-UUh47Fh",
        "colab_type": "text"
      },
      "source": [
        "# Install `anndata`"
      ]
    },
    {
      "cell_type": "code",
      "metadata": {
        "id": "mZXJhn7w4ruH",
        "colab_type": "code",
        "outputId": "b1102e23-2054-4c56-b88d-1de07ffbd10c",
        "colab": {
          "base_uri": "https://localhost:8080/",
          "height": 170
        }
      },
      "source": [
        "!pip install anndata"
      ],
      "execution_count": 0,
      "outputs": [
        {
          "output_type": "stream",
          "text": [
            "Requirement already satisfied: anndata in /usr/local/lib/python3.6/dist-packages (0.6.22.post1)\n",
            "Requirement already satisfied: numpy~=1.14 in /usr/local/lib/python3.6/dist-packages (from anndata) (1.17.5)\n",
            "Requirement already satisfied: scipy~=1.0 in /usr/local/lib/python3.6/dist-packages (from anndata) (1.4.1)\n",
            "Requirement already satisfied: pandas>=0.23.0 in /usr/local/lib/python3.6/dist-packages (from anndata) (0.25.3)\n",
            "Requirement already satisfied: natsort in /usr/local/lib/python3.6/dist-packages (from anndata) (5.5.0)\n",
            "Requirement already satisfied: h5py in /usr/local/lib/python3.6/dist-packages (from anndata) (2.8.0)\n",
            "Requirement already satisfied: pytz>=2017.2 in /usr/local/lib/python3.6/dist-packages (from pandas>=0.23.0->anndata) (2018.9)\n",
            "Requirement already satisfied: python-dateutil>=2.6.1 in /usr/local/lib/python3.6/dist-packages (from pandas>=0.23.0->anndata) (2.6.1)\n",
            "Requirement already satisfied: six in /usr/local/lib/python3.6/dist-packages (from h5py->anndata) (1.12.0)\n"
          ],
          "name": "stdout"
        }
      ]
    },
    {
      "cell_type": "markdown",
      "metadata": {
        "id": "dHsxyaqn4c-Y",
        "colab_type": "text"
      },
      "source": [
        "# Read sample1 and sample2 gene counts into anndata"
      ]
    },
    {
      "cell_type": "code",
      "metadata": {
        "id": "2rSRaQft4cpT",
        "colab_type": "code",
        "colab": {}
      },
      "source": [
        "import anndata\n",
        "sample1 = anndata.read_h5ad('sample1/counts_filtered/adata.h5ad')\n",
        "sample2 = anndata.read_h5ad('sample2/counts_filtered/adata.h5ad')"
      ],
      "execution_count": 0,
      "outputs": []
    },
    {
      "cell_type": "code",
      "metadata": {
        "id": "y1JETlwp4bLz",
        "colab_type": "code",
        "outputId": "b95cfa7b-2a23-45a3-a1aa-62bf26967886",
        "colab": {
          "base_uri": "https://localhost:8080/",
          "height": 34
        }
      },
      "source": [
        "sample1"
      ],
      "execution_count": 0,
      "outputs": [
        {
          "output_type": "execute_result",
          "data": {
            "text/plain": [
              "AnnData object with n_obs × n_vars = 1396 × 60623 "
            ]
          },
          "metadata": {
            "tags": []
          },
          "execution_count": 17
        }
      ]
    },
    {
      "cell_type": "code",
      "metadata": {
        "id": "toiaB5pE5kNf",
        "colab_type": "code",
        "outputId": "f26074c6-d18d-4540-90cd-d0be00ed47cb",
        "colab": {
          "base_uri": "https://localhost:8080/",
          "height": 51
        }
      },
      "source": [
        "sample1.X"
      ],
      "execution_count": 0,
      "outputs": [
        {
          "output_type": "execute_result",
          "data": {
            "text/plain": [
              "<1396x60623 sparse matrix of type '<class 'numpy.float32'>'\n",
              "\twith 4828398 stored elements in Compressed Sparse Row format>"
            ]
          },
          "metadata": {
            "tags": []
          },
          "execution_count": 18
        }
      ]
    },
    {
      "cell_type": "code",
      "metadata": {
        "id": "L2VfdfRN5m3f",
        "colab_type": "code",
        "outputId": "77fa1262-f411-472a-d970-5c12cef022a0",
        "colab": {
          "base_uri": "https://localhost:8080/",
          "height": 218
        }
      },
      "source": [
        "sample1.obs.head()"
      ],
      "execution_count": 0,
      "outputs": [
        {
          "output_type": "execute_result",
          "data": {
            "text/html": [
              "<div>\n",
              "<style scoped>\n",
              "    .dataframe tbody tr th:only-of-type {\n",
              "        vertical-align: middle;\n",
              "    }\n",
              "\n",
              "    .dataframe tbody tr th {\n",
              "        vertical-align: top;\n",
              "    }\n",
              "\n",
              "    .dataframe thead th {\n",
              "        text-align: right;\n",
              "    }\n",
              "</style>\n",
              "<table border=\"1\" class=\"dataframe\">\n",
              "  <thead>\n",
              "    <tr style=\"text-align: right;\">\n",
              "      <th></th>\n",
              "    </tr>\n",
              "    <tr>\n",
              "      <th>index</th>\n",
              "    </tr>\n",
              "  </thead>\n",
              "  <tbody>\n",
              "    <tr>\n",
              "      <th>AAACCTGAGCTGTTCA</th>\n",
              "    </tr>\n",
              "    <tr>\n",
              "      <th>AAACCTGCAATTCCTT</th>\n",
              "    </tr>\n",
              "    <tr>\n",
              "      <th>AAACCTGGTCTACCTC</th>\n",
              "    </tr>\n",
              "    <tr>\n",
              "      <th>AAACCTGGTTTCCACC</th>\n",
              "    </tr>\n",
              "    <tr>\n",
              "      <th>AAACCTGTCGGAGCAA</th>\n",
              "    </tr>\n",
              "  </tbody>\n",
              "</table>\n",
              "</div>"
            ],
            "text/plain": [
              "Empty DataFrame\n",
              "Columns: []\n",
              "Index: [AAACCTGAGCTGTTCA, AAACCTGCAATTCCTT, AAACCTGGTCTACCTC, AAACCTGGTTTCCACC, AAACCTGTCGGAGCAA]"
            ]
          },
          "metadata": {
            "tags": []
          },
          "execution_count": 19
        }
      ]
    },
    {
      "cell_type": "code",
      "metadata": {
        "id": "YWEWgjri5nyW",
        "colab_type": "code",
        "outputId": "027edc63-f4d2-4b6a-b230-2b125f4541c5",
        "colab": {
          "base_uri": "https://localhost:8080/",
          "height": 218
        }
      },
      "source": [
        "sample1.var.head()"
      ],
      "execution_count": 0,
      "outputs": [
        {
          "output_type": "execute_result",
          "data": {
            "text/html": [
              "<div>\n",
              "<style scoped>\n",
              "    .dataframe tbody tr th:only-of-type {\n",
              "        vertical-align: middle;\n",
              "    }\n",
              "\n",
              "    .dataframe tbody tr th {\n",
              "        vertical-align: top;\n",
              "    }\n",
              "\n",
              "    .dataframe thead th {\n",
              "        text-align: right;\n",
              "    }\n",
              "</style>\n",
              "<table border=\"1\" class=\"dataframe\">\n",
              "  <thead>\n",
              "    <tr style=\"text-align: right;\">\n",
              "      <th></th>\n",
              "    </tr>\n",
              "    <tr>\n",
              "      <th>index</th>\n",
              "    </tr>\n",
              "  </thead>\n",
              "  <tbody>\n",
              "    <tr>\n",
              "      <th>ENSG00000223972.5</th>\n",
              "    </tr>\n",
              "    <tr>\n",
              "      <th>ENSG00000227232.5</th>\n",
              "    </tr>\n",
              "    <tr>\n",
              "      <th>ENSG00000278267.1</th>\n",
              "    </tr>\n",
              "    <tr>\n",
              "      <th>ENSG00000243485.5</th>\n",
              "    </tr>\n",
              "    <tr>\n",
              "      <th>ENSG00000284332.1</th>\n",
              "    </tr>\n",
              "  </tbody>\n",
              "</table>\n",
              "</div>"
            ],
            "text/plain": [
              "Empty DataFrame\n",
              "Columns: []\n",
              "Index: [ENSG00000223972.5, ENSG00000227232.5, ENSG00000278267.1, ENSG00000243485.5, ENSG00000284332.1]"
            ]
          },
          "metadata": {
            "tags": []
          },
          "execution_count": 20
        }
      ]
    },
    {
      "cell_type": "code",
      "metadata": {
        "id": "BXXRGL_s5omZ",
        "colab_type": "code",
        "outputId": "8e884711-a97c-403a-df2a-8757be768c56",
        "colab": {
          "base_uri": "https://localhost:8080/",
          "height": 34
        }
      },
      "source": [
        "sample2"
      ],
      "execution_count": 0,
      "outputs": [
        {
          "output_type": "execute_result",
          "data": {
            "text/plain": [
              "AnnData object with n_obs × n_vars = 279 × 60623 "
            ]
          },
          "metadata": {
            "tags": []
          },
          "execution_count": 21
        }
      ]
    },
    {
      "cell_type": "code",
      "metadata": {
        "id": "r3J6sP405sY-",
        "colab_type": "code",
        "outputId": "9cde3b09-1e57-4754-d006-6addf962752c",
        "colab": {
          "base_uri": "https://localhost:8080/",
          "height": 51
        }
      },
      "source": [
        "sample2.X"
      ],
      "execution_count": 0,
      "outputs": [
        {
          "output_type": "execute_result",
          "data": {
            "text/plain": [
              "<279x60623 sparse matrix of type '<class 'numpy.float32'>'\n",
              "\twith 1282741 stored elements in Compressed Sparse Row format>"
            ]
          },
          "metadata": {
            "tags": []
          },
          "execution_count": 22
        }
      ]
    },
    {
      "cell_type": "code",
      "metadata": {
        "id": "K7CWpIoD5s6v",
        "colab_type": "code",
        "outputId": "909d2ec1-dbc8-4551-8ae9-a80233765ea4",
        "colab": {
          "base_uri": "https://localhost:8080/",
          "height": 218
        }
      },
      "source": [
        "sample2.obs.head()"
      ],
      "execution_count": 0,
      "outputs": [
        {
          "output_type": "execute_result",
          "data": {
            "text/html": [
              "<div>\n",
              "<style scoped>\n",
              "    .dataframe tbody tr th:only-of-type {\n",
              "        vertical-align: middle;\n",
              "    }\n",
              "\n",
              "    .dataframe tbody tr th {\n",
              "        vertical-align: top;\n",
              "    }\n",
              "\n",
              "    .dataframe thead th {\n",
              "        text-align: right;\n",
              "    }\n",
              "</style>\n",
              "<table border=\"1\" class=\"dataframe\">\n",
              "  <thead>\n",
              "    <tr style=\"text-align: right;\">\n",
              "      <th></th>\n",
              "    </tr>\n",
              "    <tr>\n",
              "      <th>index</th>\n",
              "    </tr>\n",
              "  </thead>\n",
              "  <tbody>\n",
              "    <tr>\n",
              "      <th>AAACCTGAGACCACGA</th>\n",
              "    </tr>\n",
              "    <tr>\n",
              "      <th>AAACCTGTCTGATACG</th>\n",
              "    </tr>\n",
              "    <tr>\n",
              "      <th>AAACGGGAGTGTTGAA</th>\n",
              "    </tr>\n",
              "    <tr>\n",
              "      <th>AAAGATGTCCGAACGC</th>\n",
              "    </tr>\n",
              "    <tr>\n",
              "      <th>AAAGTAGGTTAGTGGG</th>\n",
              "    </tr>\n",
              "  </tbody>\n",
              "</table>\n",
              "</div>"
            ],
            "text/plain": [
              "Empty DataFrame\n",
              "Columns: []\n",
              "Index: [AAACCTGAGACCACGA, AAACCTGTCTGATACG, AAACGGGAGTGTTGAA, AAAGATGTCCGAACGC, AAAGTAGGTTAGTGGG]"
            ]
          },
          "metadata": {
            "tags": []
          },
          "execution_count": 23
        }
      ]
    },
    {
      "cell_type": "code",
      "metadata": {
        "id": "yCWRNkXC5uFs",
        "colab_type": "code",
        "outputId": "b73c2927-cbbd-456d-d816-09466e0c31aa",
        "colab": {
          "base_uri": "https://localhost:8080/",
          "height": 218
        }
      },
      "source": [
        "sample2.var.head()"
      ],
      "execution_count": 0,
      "outputs": [
        {
          "output_type": "execute_result",
          "data": {
            "text/html": [
              "<div>\n",
              "<style scoped>\n",
              "    .dataframe tbody tr th:only-of-type {\n",
              "        vertical-align: middle;\n",
              "    }\n",
              "\n",
              "    .dataframe tbody tr th {\n",
              "        vertical-align: top;\n",
              "    }\n",
              "\n",
              "    .dataframe thead th {\n",
              "        text-align: right;\n",
              "    }\n",
              "</style>\n",
              "<table border=\"1\" class=\"dataframe\">\n",
              "  <thead>\n",
              "    <tr style=\"text-align: right;\">\n",
              "      <th></th>\n",
              "    </tr>\n",
              "    <tr>\n",
              "      <th>index</th>\n",
              "    </tr>\n",
              "  </thead>\n",
              "  <tbody>\n",
              "    <tr>\n",
              "      <th>ENSG00000223972.5</th>\n",
              "    </tr>\n",
              "    <tr>\n",
              "      <th>ENSG00000227232.5</th>\n",
              "    </tr>\n",
              "    <tr>\n",
              "      <th>ENSG00000278267.1</th>\n",
              "    </tr>\n",
              "    <tr>\n",
              "      <th>ENSG00000243485.5</th>\n",
              "    </tr>\n",
              "    <tr>\n",
              "      <th>ENSG00000284332.1</th>\n",
              "    </tr>\n",
              "  </tbody>\n",
              "</table>\n",
              "</div>"
            ],
            "text/plain": [
              "Empty DataFrame\n",
              "Columns: []\n",
              "Index: [ENSG00000223972.5, ENSG00000227232.5, ENSG00000278267.1, ENSG00000243485.5, ENSG00000284332.1]"
            ]
          },
          "metadata": {
            "tags": []
          },
          "execution_count": 24
        }
      ]
    },
    {
      "cell_type": "markdown",
      "metadata": {
        "id": "FPPpOvaR5yWE",
        "colab_type": "text"
      },
      "source": [
        "## Concatenate the anndatas"
      ]
    },
    {
      "cell_type": "code",
      "metadata": {
        "id": "64iMMIeS5u2w",
        "colab_type": "code",
        "colab": {}
      },
      "source": [
        "concat_samples = sample1.concatenate(\n",
        "    sample2, join='outer', batch_categories=['sample1', 'sample2'], index_unique='-'\n",
        ")"
      ],
      "execution_count": 0,
      "outputs": []
    },
    {
      "cell_type": "code",
      "metadata": {
        "id": "YaeQzZ9H6Aqy",
        "colab_type": "code",
        "outputId": "8335cdd6-1f10-4f13-baa0-7a4f7fa10222",
        "colab": {
          "base_uri": "https://localhost:8080/",
          "height": 51
        }
      },
      "source": [
        "concat_samples"
      ],
      "execution_count": 0,
      "outputs": [
        {
          "output_type": "execute_result",
          "data": {
            "text/plain": [
              "AnnData object with n_obs × n_vars = 1675 × 60623 \n",
              "    obs: 'batch'"
            ]
          },
          "metadata": {
            "tags": []
          },
          "execution_count": 26
        }
      ]
    },
    {
      "cell_type": "code",
      "metadata": {
        "id": "fTc5dtU_6Beq",
        "colab_type": "code",
        "outputId": "1b91ff61-8b4f-4df5-b9f4-15dd88d2b421",
        "colab": {
          "base_uri": "https://localhost:8080/",
          "height": 187
        }
      },
      "source": [
        "concat_samples.var.head()"
      ],
      "execution_count": 0,
      "outputs": [
        {
          "output_type": "execute_result",
          "data": {
            "text/html": [
              "<div>\n",
              "<style scoped>\n",
              "    .dataframe tbody tr th:only-of-type {\n",
              "        vertical-align: middle;\n",
              "    }\n",
              "\n",
              "    .dataframe tbody tr th {\n",
              "        vertical-align: top;\n",
              "    }\n",
              "\n",
              "    .dataframe thead th {\n",
              "        text-align: right;\n",
              "    }\n",
              "</style>\n",
              "<table border=\"1\" class=\"dataframe\">\n",
              "  <thead>\n",
              "    <tr style=\"text-align: right;\">\n",
              "      <th></th>\n",
              "    </tr>\n",
              "  </thead>\n",
              "  <tbody>\n",
              "    <tr>\n",
              "      <th>ENSG00000223972.5</th>\n",
              "    </tr>\n",
              "    <tr>\n",
              "      <th>ENSG00000227232.5</th>\n",
              "    </tr>\n",
              "    <tr>\n",
              "      <th>ENSG00000278267.1</th>\n",
              "    </tr>\n",
              "    <tr>\n",
              "      <th>ENSG00000243485.5</th>\n",
              "    </tr>\n",
              "    <tr>\n",
              "      <th>ENSG00000284332.1</th>\n",
              "    </tr>\n",
              "  </tbody>\n",
              "</table>\n",
              "</div>"
            ],
            "text/plain": [
              "Empty DataFrame\n",
              "Columns: []\n",
              "Index: [ENSG00000223972.5, ENSG00000227232.5, ENSG00000278267.1, ENSG00000243485.5, ENSG00000284332.1]"
            ]
          },
          "metadata": {
            "tags": []
          },
          "execution_count": 27
        }
      ]
    },
    {
      "cell_type": "code",
      "metadata": {
        "id": "myIrPHxa6C51",
        "colab_type": "code",
        "outputId": "a5e06628-ba67-4296-e652-e7c1a9c2967a",
        "colab": {
          "base_uri": "https://localhost:8080/",
          "height": 419
        }
      },
      "source": [
        "concat_samples.obs"
      ],
      "execution_count": 0,
      "outputs": [
        {
          "output_type": "execute_result",
          "data": {
            "text/html": [
              "<div>\n",
              "<style scoped>\n",
              "    .dataframe tbody tr th:only-of-type {\n",
              "        vertical-align: middle;\n",
              "    }\n",
              "\n",
              "    .dataframe tbody tr th {\n",
              "        vertical-align: top;\n",
              "    }\n",
              "\n",
              "    .dataframe thead th {\n",
              "        text-align: right;\n",
              "    }\n",
              "</style>\n",
              "<table border=\"1\" class=\"dataframe\">\n",
              "  <thead>\n",
              "    <tr style=\"text-align: right;\">\n",
              "      <th></th>\n",
              "      <th>batch</th>\n",
              "    </tr>\n",
              "  </thead>\n",
              "  <tbody>\n",
              "    <tr>\n",
              "      <th>AAACCTGAGCTGTTCA-sample1</th>\n",
              "      <td>sample1</td>\n",
              "    </tr>\n",
              "    <tr>\n",
              "      <th>AAACCTGCAATTCCTT-sample1</th>\n",
              "      <td>sample1</td>\n",
              "    </tr>\n",
              "    <tr>\n",
              "      <th>AAACCTGGTCTACCTC-sample1</th>\n",
              "      <td>sample1</td>\n",
              "    </tr>\n",
              "    <tr>\n",
              "      <th>AAACCTGGTTTCCACC-sample1</th>\n",
              "      <td>sample1</td>\n",
              "    </tr>\n",
              "    <tr>\n",
              "      <th>AAACCTGTCGGAGCAA-sample1</th>\n",
              "      <td>sample1</td>\n",
              "    </tr>\n",
              "    <tr>\n",
              "      <th>...</th>\n",
              "      <td>...</td>\n",
              "    </tr>\n",
              "    <tr>\n",
              "      <th>TTTGCGCGTTGACGTT-sample2</th>\n",
              "      <td>sample2</td>\n",
              "    </tr>\n",
              "    <tr>\n",
              "      <th>TTTGCGCGTTGTCTTT-sample2</th>\n",
              "      <td>sample2</td>\n",
              "    </tr>\n",
              "    <tr>\n",
              "      <th>TTTGGTTGTCATGCAT-sample2</th>\n",
              "      <td>sample2</td>\n",
              "    </tr>\n",
              "    <tr>\n",
              "      <th>TTTGTCAGTGAGTGAC-sample2</th>\n",
              "      <td>sample2</td>\n",
              "    </tr>\n",
              "    <tr>\n",
              "      <th>TTTGTCATCTTCATGT-sample2</th>\n",
              "      <td>sample2</td>\n",
              "    </tr>\n",
              "  </tbody>\n",
              "</table>\n",
              "<p>1675 rows × 1 columns</p>\n",
              "</div>"
            ],
            "text/plain": [
              "                            batch\n",
              "AAACCTGAGCTGTTCA-sample1  sample1\n",
              "AAACCTGCAATTCCTT-sample1  sample1\n",
              "AAACCTGGTCTACCTC-sample1  sample1\n",
              "AAACCTGGTTTCCACC-sample1  sample1\n",
              "AAACCTGTCGGAGCAA-sample1  sample1\n",
              "...                           ...\n",
              "TTTGCGCGTTGACGTT-sample2  sample2\n",
              "TTTGCGCGTTGTCTTT-sample2  sample2\n",
              "TTTGGTTGTCATGCAT-sample2  sample2\n",
              "TTTGTCAGTGAGTGAC-sample2  sample2\n",
              "TTTGTCATCTTCATGT-sample2  sample2\n",
              "\n",
              "[1675 rows x 1 columns]"
            ]
          },
          "metadata": {
            "tags": []
          },
          "execution_count": 28
        }
      ]
    },
    {
      "cell_type": "code",
      "metadata": {
        "id": "K0h7gL5B6FQp",
        "colab_type": "code",
        "colab": {}
      },
      "source": [
        ""
      ],
      "execution_count": 0,
      "outputs": []
    }
  ]
}