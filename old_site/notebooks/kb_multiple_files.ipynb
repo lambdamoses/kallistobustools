{
  "nbformat": 4,
  "nbformat_minor": 0,
  "metadata": {
    "colab": {
      "name": "kb_multiple_files.ipynb",
      "provenance": [],
      "collapsed_sections": [],
      "toc_visible": true
    },
    "kernelspec": {
      "name": "python3",
      "display_name": "Python 3"
    }
  },
  "cells": [
    {
      "cell_type": "markdown",
      "metadata": {
        "id": "om1Ls1J9Kqj-",
        "colab_type": "text"
      },
      "source": [
        "# Processing Multiple Lanes at Once\n",
        "\n",
        "This tutorial provides instructions for how to pre-process the [mouse T cells SRR8206317](https://www.ncbi.nlm.nih.gov/sra/?term=SRR8206317) dataset from [Miller & Sen et al., 2019](https://doi.org/10.1038/s41590-019-0312-6) using the **kallisto | bustools** workflow."
      ]
    },
    {
      "cell_type": "markdown",
      "metadata": {
        "id": "cvkb-dM0La4J",
        "colab_type": "text"
      },
      "source": [
        "## Download the data"
      ]
    },
    {
      "cell_type": "code",
      "metadata": {
        "id": "q5uEZ2NXLiE7",
        "colab_type": "code",
        "outputId": "2f01d1a9-af41-411d-cf3d-ef9a68ce80c3",
        "colab": {
          "base_uri": "https://localhost:8080/",
          "height": 714
        }
      },
      "source": [
        "!wget ftp://ftp.sra.ebi.ac.uk/vol1/run/SRR820/SRR8206317/d10_Tet_possorted_genome_bam.bam"
      ],
      "execution_count": 0,
      "outputs": [
        {
          "output_type": "stream",
          "text": [
            "--2020-01-14 22:38:35--  ftp://ftp.sra.ebi.ac.uk/vol1/run/SRR820/SRR8206317/d10_Tet_possorted_genome_bam.bam\n",
            "           => ‘d10_Tet_possorted_genome_bam.bam’\n",
            "Resolving ftp.sra.ebi.ac.uk (ftp.sra.ebi.ac.uk)... 193.62.192.7\n",
            "Connecting to ftp.sra.ebi.ac.uk (ftp.sra.ebi.ac.uk)|193.62.192.7|:21... connected.\n",
            "Logging in as anonymous ... Logged in!\n",
            "==> SYST ... done.    ==> PWD ... done.\n",
            "==> TYPE I ... done.  ==> CWD (1) /vol1/run/SRR820/SRR8206317 ... \n",
            "Error in server response, closing control connection.\n",
            "Retrying.\n",
            "\n",
            "--2020-01-14 22:43:41--  ftp://ftp.sra.ebi.ac.uk/vol1/run/SRR820/SRR8206317/d10_Tet_possorted_genome_bam.bam\n",
            "  (try: 2) => ‘d10_Tet_possorted_genome_bam.bam’\n",
            "Connecting to ftp.sra.ebi.ac.uk (ftp.sra.ebi.ac.uk)|193.62.192.7|:21... connected.\n",
            "Error in server response. Closing.\n",
            "Retrying.\n",
            "\n",
            "--2020-01-14 22:43:43--  ftp://ftp.sra.ebi.ac.uk/vol1/run/SRR820/SRR8206317/d10_Tet_possorted_genome_bam.bam\n",
            "  (try: 3) => ‘d10_Tet_possorted_genome_bam.bam’\n",
            "Connecting to ftp.sra.ebi.ac.uk (ftp.sra.ebi.ac.uk)|193.62.192.7|:21... connected.\n",
            "Logging in as anonymous ... Logged in!\n",
            "==> SYST ... done.    ==> PWD ... done.\n",
            "==> TYPE I ... done.  ==> CWD (1) /vol1/run/SRR820/SRR8206317 ... done.\n",
            "==> SIZE d10_Tet_possorted_genome_bam.bam ... 9998262104\n",
            "==> PASV ... done.    ==> RETR d10_Tet_possorted_genome_bam.bam ... done.\n",
            "Length: 9998262104 (9.3G) (unauthoritative)\n",
            "\n",
            "d10_Tet_possorted_g 100%[===================>]   9.31G  17.2MB/s    in 52m 55s \n",
            "\n",
            "2020-01-14 23:37:02 (3.00 MB/s) - Control connection closed.\n",
            "Retrying.\n",
            "\n",
            "--2020-01-14 23:52:05--  ftp://ftp.sra.ebi.ac.uk/vol1/run/SRR820/SRR8206317/d10_Tet_possorted_genome_bam.bam\n",
            "  (try: 4) => ‘d10_Tet_possorted_genome_bam.bam’\n",
            "Connecting to ftp.sra.ebi.ac.uk (ftp.sra.ebi.ac.uk)|193.62.192.7|:21... connected.\n",
            "Logging in as anonymous ... Logged in!\n",
            "==> SYST ... done.    ==> PWD ... done.\n",
            "==> TYPE I ... done.  ==> CWD (1) /vol1/run/SRR820/SRR8206317 ... done.\n",
            "==> SIZE d10_Tet_possorted_genome_bam.bam ... 9998262104\n",
            "File has already been retrieved.\n",
            "2020-01-14 23:52:07 (0.00 B/s) - ‘d10_Tet_possorted_genome_bam.bam’ saved [9998262104]\n",
            "\n"
          ],
          "name": "stdout"
        }
      ]
    },
    {
      "cell_type": "markdown",
      "metadata": {
        "id": "1lChMcExK5YX",
        "colab_type": "text"
      },
      "source": [
        "## Install `kb` and `bamtofastq`\n",
        "\n",
        "We will be using `bamtofastq` to generate the original FASTQ files from the BAM files provided by the authors."
      ]
    },
    {
      "cell_type": "code",
      "metadata": {
        "id": "uszsyqs2K5Lr",
        "colab_type": "code",
        "outputId": "a5e42d28-1e86-4c45-91c5-56b379e9a7af",
        "colab": {
          "base_uri": "https://localhost:8080/",
          "height": 595
        }
      },
      "source": [
        "!pip install kb-python"
      ],
      "execution_count": 0,
      "outputs": [
        {
          "output_type": "stream",
          "text": [
            "Collecting kb-python\n",
            "\u001b[?25l  Downloading https://files.pythonhosted.org/packages/62/c9/2e5b8fa2cd873a23ae1aeb128b33165d6a9387a2f56ea1fafec1d6d32477/kb_python-0.24.4-py3-none-any.whl (35.4MB)\n",
            "\u001b[K     |████████████████████████████████| 35.4MB 118kB/s \n",
            "\u001b[?25hCollecting anndata>=0.6.22.post1\n",
            "\u001b[?25l  Downloading https://files.pythonhosted.org/packages/2b/72/87196c15f68d9865c31a43a10cf7c50bcbcedd5607d09f9aada0b3963103/anndata-0.6.22.post1-py3-none-any.whl (47kB)\n",
            "\u001b[K     |████████████████████████████████| 51kB 6.4MB/s \n",
            "\u001b[?25hCollecting loompy>=3.0.6\n",
            "\u001b[?25l  Downloading https://files.pythonhosted.org/packages/36/52/74ed37ae5988522fbf87b856c67c4f80700e6452410b4cd80498c5f416f9/loompy-3.0.6.tar.gz (41kB)\n",
            "\u001b[K     |████████████████████████████████| 51kB 6.6MB/s \n",
            "\u001b[?25hRequirement already satisfied: pandas>=0.23.0 in /usr/local/lib/python3.6/dist-packages (from anndata>=0.6.22.post1->kb-python) (0.25.3)\n",
            "Requirement already satisfied: natsort in /usr/local/lib/python3.6/dist-packages (from anndata>=0.6.22.post1->kb-python) (5.5.0)\n",
            "Requirement already satisfied: h5py in /usr/local/lib/python3.6/dist-packages (from anndata>=0.6.22.post1->kb-python) (2.8.0)\n",
            "Requirement already satisfied: scipy~=1.0 in /usr/local/lib/python3.6/dist-packages (from anndata>=0.6.22.post1->kb-python) (1.4.1)\n",
            "Requirement already satisfied: numpy~=1.14 in /usr/local/lib/python3.6/dist-packages (from anndata>=0.6.22.post1->kb-python) (1.17.5)\n",
            "Requirement already satisfied: setuptools in /usr/local/lib/python3.6/dist-packages (from loompy>=3.0.6->kb-python) (42.0.2)\n",
            "Requirement already satisfied: numba in /usr/local/lib/python3.6/dist-packages (from loompy>=3.0.6->kb-python) (0.47.0)\n",
            "Requirement already satisfied: click in /usr/local/lib/python3.6/dist-packages (from loompy>=3.0.6->kb-python) (7.0)\n",
            "Collecting numpy-groupies\n",
            "\u001b[?25l  Downloading https://files.pythonhosted.org/packages/57/ae/18217b57ba3e4bb8a44ecbfc161ed065f6d1b90c75d404bd6ba8d6f024e2/numpy_groupies-0.9.10.tar.gz (43kB)\n",
            "\u001b[K     |████████████████████████████████| 51kB 6.7MB/s \n",
            "\u001b[?25hRequirement already satisfied: python-dateutil>=2.6.1 in /usr/local/lib/python3.6/dist-packages (from pandas>=0.23.0->anndata>=0.6.22.post1->kb-python) (2.6.1)\n",
            "Requirement already satisfied: pytz>=2017.2 in /usr/local/lib/python3.6/dist-packages (from pandas>=0.23.0->anndata>=0.6.22.post1->kb-python) (2018.9)\n",
            "Requirement already satisfied: six in /usr/local/lib/python3.6/dist-packages (from h5py->anndata>=0.6.22.post1->kb-python) (1.12.0)\n",
            "Requirement already satisfied: llvmlite>=0.31.0dev0 in /usr/local/lib/python3.6/dist-packages (from numba->loompy>=3.0.6->kb-python) (0.31.0)\n",
            "Building wheels for collected packages: loompy, numpy-groupies\n",
            "  Building wheel for loompy (setup.py) ... \u001b[?25l\u001b[?25hdone\n",
            "  Created wheel for loompy: filename=loompy-3.0.6-cp36-none-any.whl size=47896 sha256=fdf56d2f34f5776d33b9aea58f602517bfa0c29689bdd3de852d912e2d3444fd\n",
            "  Stored in directory: /root/.cache/pip/wheels/f9/a4/90/5a98ad83419732b0fba533b81a2a52ba3dbe230a936ca4cdc9\n",
            "  Building wheel for numpy-groupies (setup.py) ... \u001b[?25l\u001b[?25hdone\n",
            "  Created wheel for numpy-groupies: filename=numpy_groupies-0+unknown-cp36-none-any.whl size=28044 sha256=7e582790055188f3b8d5132cbae763ebe112e210588928a8ed09dfa07140f063\n",
            "  Stored in directory: /root/.cache/pip/wheels/30/ac/83/64d5f9293aeaec63f9539142fc629a41af064cae1b3d8d94aa\n",
            "Successfully built loompy numpy-groupies\n",
            "Installing collected packages: anndata, numpy-groupies, loompy, kb-python\n",
            "Successfully installed anndata-0.6.22.post1 kb-python-0.24.4 loompy-3.0.6 numpy-groupies-0+unknown\n"
          ],
          "name": "stdout"
        }
      ]
    },
    {
      "cell_type": "code",
      "metadata": {
        "id": "27D35F-cKhX8",
        "colab_type": "code",
        "outputId": "d90852ef-f52e-4756-e9c8-5b526ffb000e",
        "colab": {
          "base_uri": "https://localhost:8080/",
          "height": 204
        }
      },
      "source": [
        "!wget http://cf.10xgenomics.com/misc/bamtofastq-1.2.0\n",
        "!chmod +x bamtofastq-1.2.0"
      ],
      "execution_count": 0,
      "outputs": [
        {
          "output_type": "stream",
          "text": [
            "--2020-01-14 22:29:02--  http://cf.10xgenomics.com/misc/bamtofastq-1.2.0\n",
            "Resolving cf.10xgenomics.com (cf.10xgenomics.com)... 13.224.29.56, 13.224.29.52, 13.224.29.102, ...\n",
            "Connecting to cf.10xgenomics.com (cf.10xgenomics.com)|13.224.29.56|:80... connected.\n",
            "HTTP request sent, awaiting response... 200 OK\n",
            "Length: 13288280 (13M) [binary/octet-stream]\n",
            "Saving to: ‘bamtofastq-1.2.0.1’\n",
            "\n",
            "\rbamtofastq-1.2.0.1    0%[                    ]       0  --.-KB/s               \rbamtofastq-1.2.0.1   71%[=============>      ]   9.03M  45.1MB/s               \rbamtofastq-1.2.0.1  100%[===================>]  12.67M  52.9MB/s    in 0.2s    \n",
            "\n",
            "2020-01-14 22:29:02 (52.9 MB/s) - ‘bamtofastq-1.2.0.1’ saved [13288280/13288280]\n",
            "\n"
          ],
          "name": "stdout"
        }
      ]
    },
    {
      "cell_type": "code",
      "metadata": {
        "id": "bMt1eAg1LGH9",
        "colab_type": "code",
        "outputId": "de9396f8-c792-49bf-ad9b-1c373ab7f4d2",
        "colab": {
          "base_uri": "https://localhost:8080/",
          "height": 119
        }
      },
      "source": [
        "!./bamtofastq-1.2.0"
      ],
      "execution_count": 0,
      "outputs": [
        {
          "output_type": "stream",
          "text": [
            "bamtofastq v1.2.0\n",
            "Invalid arguments.\n",
            "\n",
            "Usage:\n",
            "  bamtofastq [options] <bam> <output-path>\n",
            "  bamtofastq (-h | --help)\n"
          ],
          "name": "stdout"
        }
      ]
    },
    {
      "cell_type": "markdown",
      "metadata": {
        "id": "ycg_r-UILuHI",
        "colab_type": "text"
      },
      "source": [
        "## Download a pre-built mouse index"
      ]
    },
    {
      "cell_type": "code",
      "metadata": {
        "id": "mO9yYQTtLIJW",
        "colab_type": "code",
        "outputId": "b58a8746-57cb-48eb-ed22-c0dde14af8ea",
        "colab": {
          "base_uri": "https://localhost:8080/",
          "height": 85
        }
      },
      "source": [
        "%%time\n",
        "!kb ref -d mouse -i index.idx -g t2g.txt"
      ],
      "execution_count": 0,
      "outputs": [
        {
          "output_type": "stream",
          "text": [
            "[2020-01-15 00:45:51,708]    INFO Downloading files for mouse from https://caltech.box.com/shared/static/vcaz6cujop0xuapdmz0pplp3aoqc41si.gz to tmp/vcaz6cujop0xuapdmz0pplp3aoqc41si.gz\n",
            "[2020-01-15 00:47:16,807]    INFO Extracting files from tmp/vcaz6cujop0xuapdmz0pplp3aoqc41si.gz\n",
            "CPU times: user 649 ms, sys: 118 ms, total: 767 ms\n",
            "Wall time: 2min 3s\n"
          ],
          "name": "stdout"
        }
      ]
    },
    {
      "cell_type": "markdown",
      "metadata": {
        "id": "US5z4ALHN42z",
        "colab_type": "text"
      },
      "source": [
        "## Generate the FASTQs from the BAM file\n",
        "\n",
        "Use the `bamtofastq` utility to generate the FASTQs."
      ]
    },
    {
      "cell_type": "code",
      "metadata": {
        "id": "922T0LTqN4pk",
        "colab_type": "code",
        "outputId": "53d2df50-9613-4036-c3cc-a3d096b1b8e4",
        "colab": {
          "base_uri": "https://localhost:8080/",
          "height": 102
        }
      },
      "source": [
        "%%time\n",
        "!./bamtofastq-1.2.0 --reads-per-fastq=500000000 d10_Tet_possorted_genome_bam.bam ./fastqs"
      ],
      "execution_count": 0,
      "outputs": [
        {
          "output_type": "stream",
          "text": [
            "bamtofastq v1.2.0\n",
            "Args { arg_bam: \"d10_Tet_possorted_genome_bam.bam\", arg_output_path: \"./fastqs\", flag_nthreads: 4, flag_locus: None, flag_bx_list: None, flag_reads_per_fastq: 500000000, flag_gemcode: false, flag_lr20: false, flag_cr11: false }\n",
            "Writing finished.  Observed 85992089 read pairs. Wrote 85992089 read pairs\n",
            "CPU times: user 3.56 s, sys: 359 ms, total: 3.92 s\n",
            "Wall time: 13min 3s\n"
          ],
          "name": "stdout"
        }
      ]
    },
    {
      "cell_type": "markdown",
      "metadata": {
        "id": "TBfwNr8ON_3x",
        "colab_type": "text"
      },
      "source": [
        "## Generate an RNA count matrix in H5AD Format\n",
        "\n",
        "The following command will generate an RNA count matrix of cells (rows) by genes (columns) in H5AD format, which is a binary format used to store [Anndata](https://anndata.readthedocs.io/en/stable/) objects. Notice we are providing the index and transcript-to-gene mapping we downloaded in the previous step to the `-i` and `-g` arguments respectively. Also, these reads were generated with the 10x Genomics Chromium Single Cell v2 Chemistry, hence the `-x 10xv2` argument. To view other supported technologies, run `kb --list`.\n",
        "\n",
        "__Note:__ If you would like a Loom file instead, replace the `--h5ad` flag with `--loom`. If you want to use the raw matrix output by `kb` instead of their H5AD or Loom converted files, omit these flags."
      ]
    },
    {
      "cell_type": "code",
      "metadata": {
        "id": "-ACnrtP7OFgf",
        "colab_type": "code",
        "outputId": "16a7f195-3b54-455e-d3e8-c454a661bd53",
        "colab": {
          "base_uri": "https://localhost:8080/",
          "height": 289
        }
      },
      "source": [
        "!kb count -i index.idx -g t2g.txt -x 10xv2 -o output -t 2 \\\n",
        "fastqs/MAR1_POOL_2_10_tet_SI-GA-C8_MissingLibrary_1_HJNKJBGX5/bamtofastq_S1_L001_R1_001.fastq.gz \\\n",
        "fastqs/MAR1_POOL_2_10_tet_SI-GA-C8_MissingLibrary_1_HJNKJBGX5/bamtofastq_S1_L001_R2_001.fastq.gz \\\n",
        "fastqs/MAR1_POOL_2_10_tet_SI-GA-C8_MissingLibrary_1_HJNKJBGX5/bamtofastq_S1_L002_R1_001.fastq.gz \\\n",
        "fastqs/MAR1_POOL_2_10_tet_SI-GA-C8_MissingLibrary_1_HJNKJBGX5/bamtofastq_S1_L002_R2_001.fastq.gz \\\n",
        "fastqs/MAR1_POOL_2_10_tet_SI-GA-C8_MissingLibrary_1_HJNKJBGX5/bamtofastq_S1_L003_R1_001.fastq.gz \\\n",
        "fastqs/MAR1_POOL_2_10_tet_SI-GA-C8_MissingLibrary_1_HJNKJBGX5/bamtofastq_S1_L003_R2_001.fastq.gz \\\n",
        "fastqs/MAR1_POOL_2_10_tet_SI-GA-C8_MissingLibrary_1_HJNKJBGX5/bamtofastq_S1_L004_R1_001.fastq.gz \\\n",
        "fastqs/MAR1_POOL_2_10_tet_SI-GA-C8_MissingLibrary_1_HJNKJBGX5/bamtofastq_S1_L004_R2_001.fastq.gz"
      ],
      "execution_count": 0,
      "outputs": [
        {
          "output_type": "stream",
          "text": [
            "[2020-01-15 01:31:02,446]    INFO Generating BUS file from\n",
            "[2020-01-15 01:31:02,446]    INFO         fastqs/MAR1_POOL_2_10_tet_SI-GA-C8_MissingLibrary_1_HJNKJBGX5/bamtofastq_S1_L001_R1_001.fastq.gz\n",
            "[2020-01-15 01:31:02,447]    INFO         fastqs/MAR1_POOL_2_10_tet_SI-GA-C8_MissingLibrary_1_HJNKJBGX5/bamtofastq_S1_L001_R2_001.fastq.gz\n",
            "[2020-01-15 01:31:02,447]    INFO         fastqs/MAR1_POOL_2_10_tet_SI-GA-C8_MissingLibrary_1_HJNKJBGX5/bamtofastq_S1_L002_R1_001.fastq.gz\n",
            "[2020-01-15 01:31:02,447]    INFO         fastqs/MAR1_POOL_2_10_tet_SI-GA-C8_MissingLibrary_1_HJNKJBGX5/bamtofastq_S1_L002_R2_001.fastq.gz\n",
            "[2020-01-15 01:31:02,447]    INFO         fastqs/MAR1_POOL_2_10_tet_SI-GA-C8_MissingLibrary_1_HJNKJBGX5/bamtofastq_S1_L003_R1_001.fastq.gz\n",
            "[2020-01-15 01:31:02,447]    INFO         fastqs/MAR1_POOL_2_10_tet_SI-GA-C8_MissingLibrary_1_HJNKJBGX5/bamtofastq_S1_L003_R2_001.fastq.gz\n",
            "[2020-01-15 01:31:02,447]    INFO         fastqs/MAR1_POOL_2_10_tet_SI-GA-C8_MissingLibrary_1_HJNKJBGX5/bamtofastq_S1_L004_R1_001.fastq.gz\n",
            "[2020-01-15 01:31:02,447]    INFO         fastqs/MAR1_POOL_2_10_tet_SI-GA-C8_MissingLibrary_1_HJNKJBGX5/bamtofastq_S1_L004_R2_001.fastq.gz\n",
            "[2020-01-15 01:37:42,296]    INFO Sorting BUS file output/output.bus to tmp/output.s.bus\n",
            "[2020-01-15 01:39:09,358]    INFO Whitelist not provided\n",
            "[2020-01-15 01:39:09,362]    INFO Copying pre-packaged 10XV2 whitelist to output\n",
            "[2020-01-15 01:39:09,479]    INFO Inspecting BUS file tmp/output.s.bus\n",
            "[2020-01-15 01:39:27,669]    INFO Correcting BUS records in tmp/output.s.bus to tmp/output.s.c.bus with whitelist output/10xv2_whitelist.txt\n",
            "[2020-01-15 01:40:00,727]    INFO Sorting BUS file tmp/output.s.c.bus to output/output.unfiltered.bus\n",
            "[2020-01-15 01:41:04,474]    INFO Generating count matrix output/counts_unfiltered/cells_x_genes from BUS file output/output.unfiltered.bus\n"
          ],
          "name": "stdout"
        }
      ]
    },
    {
      "cell_type": "markdown",
      "metadata": {
        "id": "--QxuQPzOhQg",
        "colab_type": "text"
      },
      "source": [
        "## Load the count matrices into a notebook\n",
        "\n",
        "See the getting started tutorial for how to load the count matrices into [ScanPy](https://scanpy.readthedocs.io/en/latest/index.html) for analysis."
      ]
    },
    {
      "cell_type": "code",
      "metadata": {
        "id": "mb3Y2NzqOqUa",
        "colab_type": "code",
        "colab": {}
      },
      "source": [
        ""
      ],
      "execution_count": 0,
      "outputs": []
    }
  ]
}